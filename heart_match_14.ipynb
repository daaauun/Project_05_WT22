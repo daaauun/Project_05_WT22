{
 "cells": [
  {
   "cell_type": "markdown",
   "id": "1621eac4",
   "metadata": {},
   "source": [
    "# Team 5 - Predicting Heart-Related Diseases\n",
    "\n",
    "### Problem statement:   \n",
    "The idea of the project is to explore the factors related to heart disease and to create a model that can predict whether or not heart disease exists based on these factors.\n",
    "\n",
    "#### Facts about heart diseases:\n",
    "Cardiovascular diseases (CVDs) are the leading cause of death globally, taking an estimated 17.9 million lives each year. CVDs are a group of disorders of the heart and blood vessels and include coronary heart disease, cerebrovascular disease, rheumatic heart disease and other conditions. More than four out of five CVD deaths are due to heart attacks and strokes, and one third of these deaths occur prematurely in people under 70 years of age.\n",
    "\n",
    "https://www.who.int/health-topics/cardiovascular-diseases#tab=tab_1\n",
    "\n",
    "#### Source of the data: \n",
    "The heart disease data set was found in: https://archive.ics.uci.edu/ml/datasets/heart+Disease  \n",
    "Includes 4 databases: Cleveland, Hungary, Switzerland, and the VA Long Beach. The total number of instances are 920.\n",
    "\n",
    "This database contains 76 attributes, but all published experiments refer to using a subset of 14 of them.\n",
    "\n",
    "**Attributes description** \n",
    "\n",
    "1. #3 (age)\n",
    "2. #4 (sex): sex: sex (1 = male; 0 = female)\n",
    "3. #9 (cp): cp: chest pain type(1=typical angina, 2=atypical angina, 3=non-anginal pain, 4=asymptomatic)\n",
    "4. #10 (trestbps): trestbps: resting blood pressure (in mm Hg on admission to the hospital)\n",
    "5. #12 (chol): chol: serum cholestoral in mg/dl\n",
    "6. #16 (fbs): fbs: (fasting blood sugar > 120 mg/dl)  (1 = true; 0 = false)\n",
    "7. #19 (restecg): restecg: resting electrocardiographic results (0=normal, 1=having ST-T wave abnormality (T wave inversions and/or ST elevation or depression of > 0.05 mV), 2= showing probable or definite left ventricular hypertrophy  by Estes' criteria\n",
    "8. #32 (thalach):  thalach: maximum heart rate achieved\n",
    "9. #38 (exang): exang: exercise induced angina (1 = yes; 0 = no)\n",
    "10. #40 (oldpeak): oldpeak = ST depression induced by exercise relative to rest\n",
    "11. #41 (slope): slope: the slope of the peak exercise ST segment (1=upsloping, 2=flat, 3=downsloping)\n",
    "12. #44 (ca): number of major vessels (0-3) colored by flourosopy\n",
    "13. #51 (thal): A blood disorder called thalassemia = 3 = normal; 6 = fixed defect; 7 = reversable defect\n",
    "14. #58 (target) (the predicted attribute): diagnosis of heart disease = presence (values 1,2,3,4), absence (value\n",
    "     0).  \n"
   ]
  },
  {
   "cell_type": "code",
   "execution_count": 302,
   "id": "2f6dcb95",
   "metadata": {},
   "outputs": [],
   "source": [
    "#LIBRARIES\n",
    "\n",
    "import pandas as pd\n",
    "import numpy as np\n",
    "import matplotlib.pyplot as plt\n",
    "import seaborn as sns\n",
    "from sklearn.preprocessing import MinMaxScaler"
   ]
  },
  {
   "cell_type": "code",
   "execution_count": 303,
   "id": "1e9e57e8",
   "metadata": {},
   "outputs": [],
   "source": [
    "# These options help us to inspect our data more easily.\n",
    "pd.set_option(\"display.max_columns\", 85)\n",
    "pd.set_option(\"display.max_rows\", 85)"
   ]
  },
  {
   "cell_type": "code",
   "execution_count": 304,
   "id": "5df31f71",
   "metadata": {},
   "outputs": [],
   "source": [
    "# These commands load and read the 4 different dataframes: Cleveland, Hungary, Switzerland, and the VA Long Beach\n",
    "\n",
    "na_vals = ['NA','Missing','?']   #convert to NaN value\n",
    "\n",
    "df_cleveland = pd.read_csv(\"processed.cleveland.csv\", header = None, na_values=na_vals) #Each data set convert the values of na_vals to NaN values\n",
    "df_hungarian = pd.read_csv(\"processed.hungarian.csv\", header = None, na_values=na_vals)\n",
    "df_va = pd.read_csv(\"processed.va.csv\", header = None, na_values=na_vals)\n",
    "df_switzerland = pd.read_csv(\"processed.switzerland.csv\",header = None, na_values=na_vals)\n"
   ]
  },
  {
   "cell_type": "code",
   "execution_count": 305,
   "id": "fe4fd4eb",
   "metadata": {},
   "outputs": [],
   "source": [
    "#Set the name of the 14 Attributes\n",
    "\n",
    "column_names = ['age','sex','cp','trestbps','chol','fbs','restecg','thalach','exang','oldpeak','slope','ca','thal','target']"
   ]
  },
  {
   "cell_type": "code",
   "execution_count": 306,
   "id": "b218075e",
   "metadata": {},
   "outputs": [],
   "source": [
    "#----------------------------CLEVELAND------------------------------------\n",
    "#Add the names of the attributes to the dataset\n",
    "df_cleveland.columns = column_names"
   ]
  },
  {
   "cell_type": "code",
   "execution_count": 307,
   "id": "4ec3fbe5",
   "metadata": {},
   "outputs": [],
   "source": [
    "#Add a column to name the region of the data collected to identify the origin of each data when mergin the datasets\n",
    "df_cleveland['region']='Cleveland'"
   ]
  },
  {
   "cell_type": "code",
   "execution_count": 308,
   "id": "d877282d",
   "metadata": {},
   "outputs": [
    {
     "data": {
      "text/html": [
       "<div>\n",
       "<style scoped>\n",
       "    .dataframe tbody tr th:only-of-type {\n",
       "        vertical-align: middle;\n",
       "    }\n",
       "\n",
       "    .dataframe tbody tr th {\n",
       "        vertical-align: top;\n",
       "    }\n",
       "\n",
       "    .dataframe thead th {\n",
       "        text-align: right;\n",
       "    }\n",
       "</style>\n",
       "<table border=\"1\" class=\"dataframe\">\n",
       "  <thead>\n",
       "    <tr style=\"text-align: right;\">\n",
       "      <th></th>\n",
       "      <th>age</th>\n",
       "      <th>sex</th>\n",
       "      <th>cp</th>\n",
       "      <th>trestbps</th>\n",
       "      <th>chol</th>\n",
       "      <th>fbs</th>\n",
       "      <th>restecg</th>\n",
       "      <th>thalach</th>\n",
       "      <th>exang</th>\n",
       "      <th>oldpeak</th>\n",
       "      <th>slope</th>\n",
       "      <th>ca</th>\n",
       "      <th>thal</th>\n",
       "      <th>target</th>\n",
       "      <th>region</th>\n",
       "    </tr>\n",
       "  </thead>\n",
       "  <tbody>\n",
       "    <tr>\n",
       "      <th>0</th>\n",
       "      <td>63.0</td>\n",
       "      <td>1.0</td>\n",
       "      <td>1.0</td>\n",
       "      <td>145.0</td>\n",
       "      <td>233.0</td>\n",
       "      <td>1.0</td>\n",
       "      <td>2.0</td>\n",
       "      <td>150.0</td>\n",
       "      <td>0.0</td>\n",
       "      <td>2.3</td>\n",
       "      <td>3.0</td>\n",
       "      <td>0.0</td>\n",
       "      <td>6.0</td>\n",
       "      <td>0</td>\n",
       "      <td>Cleveland</td>\n",
       "    </tr>\n",
       "    <tr>\n",
       "      <th>1</th>\n",
       "      <td>67.0</td>\n",
       "      <td>1.0</td>\n",
       "      <td>4.0</td>\n",
       "      <td>160.0</td>\n",
       "      <td>286.0</td>\n",
       "      <td>0.0</td>\n",
       "      <td>2.0</td>\n",
       "      <td>108.0</td>\n",
       "      <td>1.0</td>\n",
       "      <td>1.5</td>\n",
       "      <td>2.0</td>\n",
       "      <td>3.0</td>\n",
       "      <td>3.0</td>\n",
       "      <td>2</td>\n",
       "      <td>Cleveland</td>\n",
       "    </tr>\n",
       "    <tr>\n",
       "      <th>2</th>\n",
       "      <td>67.0</td>\n",
       "      <td>1.0</td>\n",
       "      <td>4.0</td>\n",
       "      <td>120.0</td>\n",
       "      <td>229.0</td>\n",
       "      <td>0.0</td>\n",
       "      <td>2.0</td>\n",
       "      <td>129.0</td>\n",
       "      <td>1.0</td>\n",
       "      <td>2.6</td>\n",
       "      <td>2.0</td>\n",
       "      <td>2.0</td>\n",
       "      <td>7.0</td>\n",
       "      <td>1</td>\n",
       "      <td>Cleveland</td>\n",
       "    </tr>\n",
       "    <tr>\n",
       "      <th>3</th>\n",
       "      <td>37.0</td>\n",
       "      <td>1.0</td>\n",
       "      <td>3.0</td>\n",
       "      <td>130.0</td>\n",
       "      <td>250.0</td>\n",
       "      <td>0.0</td>\n",
       "      <td>0.0</td>\n",
       "      <td>187.0</td>\n",
       "      <td>0.0</td>\n",
       "      <td>3.5</td>\n",
       "      <td>3.0</td>\n",
       "      <td>0.0</td>\n",
       "      <td>3.0</td>\n",
       "      <td>0</td>\n",
       "      <td>Cleveland</td>\n",
       "    </tr>\n",
       "    <tr>\n",
       "      <th>4</th>\n",
       "      <td>41.0</td>\n",
       "      <td>0.0</td>\n",
       "      <td>2.0</td>\n",
       "      <td>130.0</td>\n",
       "      <td>204.0</td>\n",
       "      <td>0.0</td>\n",
       "      <td>2.0</td>\n",
       "      <td>172.0</td>\n",
       "      <td>0.0</td>\n",
       "      <td>1.4</td>\n",
       "      <td>1.0</td>\n",
       "      <td>0.0</td>\n",
       "      <td>3.0</td>\n",
       "      <td>0</td>\n",
       "      <td>Cleveland</td>\n",
       "    </tr>\n",
       "  </tbody>\n",
       "</table>\n",
       "</div>"
      ],
      "text/plain": [
       "    age  sex   cp  trestbps   chol  fbs  restecg  thalach  exang  oldpeak  \\\n",
       "0  63.0  1.0  1.0     145.0  233.0  1.0      2.0    150.0    0.0      2.3   \n",
       "1  67.0  1.0  4.0     160.0  286.0  0.0      2.0    108.0    1.0      1.5   \n",
       "2  67.0  1.0  4.0     120.0  229.0  0.0      2.0    129.0    1.0      2.6   \n",
       "3  37.0  1.0  3.0     130.0  250.0  0.0      0.0    187.0    0.0      3.5   \n",
       "4  41.0  0.0  2.0     130.0  204.0  0.0      2.0    172.0    0.0      1.4   \n",
       "\n",
       "   slope   ca  thal  target     region  \n",
       "0    3.0  0.0   6.0       0  Cleveland  \n",
       "1    2.0  3.0   3.0       2  Cleveland  \n",
       "2    2.0  2.0   7.0       1  Cleveland  \n",
       "3    3.0  0.0   3.0       0  Cleveland  \n",
       "4    1.0  0.0   3.0       0  Cleveland  "
      ]
     },
     "execution_count": 308,
     "metadata": {},
     "output_type": "execute_result"
    }
   ],
   "source": [
    "#Data visualization of the first 5 rows\n",
    "df_cleveland.head(5)"
   ]
  },
  {
   "cell_type": "code",
   "execution_count": 309,
   "id": "f83135ca",
   "metadata": {},
   "outputs": [
    {
     "data": {
      "text/plain": [
       "(303, 15)"
      ]
     },
     "execution_count": 309,
     "metadata": {},
     "output_type": "execute_result"
    }
   ],
   "source": [
    "#Number of columns and rows of the dataframe\n",
    "df_cleveland.shape"
   ]
  },
  {
   "cell_type": "code",
   "execution_count": 310,
   "id": "9f265b09",
   "metadata": {},
   "outputs": [
    {
     "data": {
      "text/html": [
       "<div>\n",
       "<style scoped>\n",
       "    .dataframe tbody tr th:only-of-type {\n",
       "        vertical-align: middle;\n",
       "    }\n",
       "\n",
       "    .dataframe tbody tr th {\n",
       "        vertical-align: top;\n",
       "    }\n",
       "\n",
       "    .dataframe thead th {\n",
       "        text-align: right;\n",
       "    }\n",
       "</style>\n",
       "<table border=\"1\" class=\"dataframe\">\n",
       "  <thead>\n",
       "    <tr style=\"text-align: right;\">\n",
       "      <th></th>\n",
       "      <th>age</th>\n",
       "      <th>sex</th>\n",
       "      <th>cp</th>\n",
       "      <th>trestbps</th>\n",
       "      <th>chol</th>\n",
       "      <th>fbs</th>\n",
       "      <th>restecg</th>\n",
       "      <th>thalach</th>\n",
       "      <th>exang</th>\n",
       "      <th>oldpeak</th>\n",
       "      <th>slope</th>\n",
       "      <th>ca</th>\n",
       "      <th>thal</th>\n",
       "      <th>target</th>\n",
       "      <th>region</th>\n",
       "    </tr>\n",
       "  </thead>\n",
       "  <tbody>\n",
       "    <tr>\n",
       "      <th>0</th>\n",
       "      <td>28</td>\n",
       "      <td>1</td>\n",
       "      <td>2</td>\n",
       "      <td>130.0</td>\n",
       "      <td>132.0</td>\n",
       "      <td>0.0</td>\n",
       "      <td>2.0</td>\n",
       "      <td>185.0</td>\n",
       "      <td>0.0</td>\n",
       "      <td>0.0</td>\n",
       "      <td>NaN</td>\n",
       "      <td>NaN</td>\n",
       "      <td>NaN</td>\n",
       "      <td>0</td>\n",
       "      <td>Hungary</td>\n",
       "    </tr>\n",
       "    <tr>\n",
       "      <th>1</th>\n",
       "      <td>29</td>\n",
       "      <td>1</td>\n",
       "      <td>2</td>\n",
       "      <td>120.0</td>\n",
       "      <td>243.0</td>\n",
       "      <td>0.0</td>\n",
       "      <td>0.0</td>\n",
       "      <td>160.0</td>\n",
       "      <td>0.0</td>\n",
       "      <td>0.0</td>\n",
       "      <td>NaN</td>\n",
       "      <td>NaN</td>\n",
       "      <td>NaN</td>\n",
       "      <td>0</td>\n",
       "      <td>Hungary</td>\n",
       "    </tr>\n",
       "    <tr>\n",
       "      <th>2</th>\n",
       "      <td>29</td>\n",
       "      <td>1</td>\n",
       "      <td>2</td>\n",
       "      <td>140.0</td>\n",
       "      <td>NaN</td>\n",
       "      <td>0.0</td>\n",
       "      <td>0.0</td>\n",
       "      <td>170.0</td>\n",
       "      <td>0.0</td>\n",
       "      <td>0.0</td>\n",
       "      <td>NaN</td>\n",
       "      <td>NaN</td>\n",
       "      <td>NaN</td>\n",
       "      <td>0</td>\n",
       "      <td>Hungary</td>\n",
       "    </tr>\n",
       "    <tr>\n",
       "      <th>3</th>\n",
       "      <td>30</td>\n",
       "      <td>0</td>\n",
       "      <td>1</td>\n",
       "      <td>170.0</td>\n",
       "      <td>237.0</td>\n",
       "      <td>0.0</td>\n",
       "      <td>1.0</td>\n",
       "      <td>170.0</td>\n",
       "      <td>0.0</td>\n",
       "      <td>0.0</td>\n",
       "      <td>NaN</td>\n",
       "      <td>NaN</td>\n",
       "      <td>6.0</td>\n",
       "      <td>0</td>\n",
       "      <td>Hungary</td>\n",
       "    </tr>\n",
       "    <tr>\n",
       "      <th>4</th>\n",
       "      <td>31</td>\n",
       "      <td>0</td>\n",
       "      <td>2</td>\n",
       "      <td>100.0</td>\n",
       "      <td>219.0</td>\n",
       "      <td>0.0</td>\n",
       "      <td>1.0</td>\n",
       "      <td>150.0</td>\n",
       "      <td>0.0</td>\n",
       "      <td>0.0</td>\n",
       "      <td>NaN</td>\n",
       "      <td>NaN</td>\n",
       "      <td>NaN</td>\n",
       "      <td>0</td>\n",
       "      <td>Hungary</td>\n",
       "    </tr>\n",
       "  </tbody>\n",
       "</table>\n",
       "</div>"
      ],
      "text/plain": [
       "   age  sex  cp  trestbps   chol  fbs  restecg  thalach  exang  oldpeak  \\\n",
       "0   28    1   2     130.0  132.0  0.0      2.0    185.0    0.0      0.0   \n",
       "1   29    1   2     120.0  243.0  0.0      0.0    160.0    0.0      0.0   \n",
       "2   29    1   2     140.0    NaN  0.0      0.0    170.0    0.0      0.0   \n",
       "3   30    0   1     170.0  237.0  0.0      1.0    170.0    0.0      0.0   \n",
       "4   31    0   2     100.0  219.0  0.0      1.0    150.0    0.0      0.0   \n",
       "\n",
       "   slope  ca  thal  target   region  \n",
       "0    NaN NaN   NaN       0  Hungary  \n",
       "1    NaN NaN   NaN       0  Hungary  \n",
       "2    NaN NaN   NaN       0  Hungary  \n",
       "3    NaN NaN   6.0       0  Hungary  \n",
       "4    NaN NaN   NaN       0  Hungary  "
      ]
     },
     "execution_count": 310,
     "metadata": {},
     "output_type": "execute_result"
    }
   ],
   "source": [
    "#----------------------------HUNGARY------------------------------------\n",
    "df_hungarian.columns = column_names\n",
    "df_hungarian['region']='Hungary'\n",
    "\n",
    "df_hungarian.head(5)\n"
   ]
  },
  {
   "cell_type": "code",
   "execution_count": 311,
   "id": "9de2e08f",
   "metadata": {},
   "outputs": [
    {
     "data": {
      "text/plain": [
       "(294, 15)"
      ]
     },
     "execution_count": 311,
     "metadata": {},
     "output_type": "execute_result"
    }
   ],
   "source": [
    "df_hungarian.shape"
   ]
  },
  {
   "cell_type": "code",
   "execution_count": 312,
   "id": "9ba7cfd6",
   "metadata": {},
   "outputs": [
    {
     "data": {
      "text/html": [
       "<div>\n",
       "<style scoped>\n",
       "    .dataframe tbody tr th:only-of-type {\n",
       "        vertical-align: middle;\n",
       "    }\n",
       "\n",
       "    .dataframe tbody tr th {\n",
       "        vertical-align: top;\n",
       "    }\n",
       "\n",
       "    .dataframe thead th {\n",
       "        text-align: right;\n",
       "    }\n",
       "</style>\n",
       "<table border=\"1\" class=\"dataframe\">\n",
       "  <thead>\n",
       "    <tr style=\"text-align: right;\">\n",
       "      <th></th>\n",
       "      <th>age</th>\n",
       "      <th>sex</th>\n",
       "      <th>cp</th>\n",
       "      <th>trestbps</th>\n",
       "      <th>chol</th>\n",
       "      <th>fbs</th>\n",
       "      <th>restecg</th>\n",
       "      <th>thalach</th>\n",
       "      <th>exang</th>\n",
       "      <th>oldpeak</th>\n",
       "      <th>slope</th>\n",
       "      <th>ca</th>\n",
       "      <th>thal</th>\n",
       "      <th>target</th>\n",
       "      <th>region</th>\n",
       "    </tr>\n",
       "  </thead>\n",
       "  <tbody>\n",
       "    <tr>\n",
       "      <th>0</th>\n",
       "      <td>63</td>\n",
       "      <td>1</td>\n",
       "      <td>4</td>\n",
       "      <td>140.0</td>\n",
       "      <td>260.0</td>\n",
       "      <td>0.0</td>\n",
       "      <td>1</td>\n",
       "      <td>112.0</td>\n",
       "      <td>1.0</td>\n",
       "      <td>3.0</td>\n",
       "      <td>2.0</td>\n",
       "      <td>NaN</td>\n",
       "      <td>NaN</td>\n",
       "      <td>2</td>\n",
       "      <td>Long Beach</td>\n",
       "    </tr>\n",
       "    <tr>\n",
       "      <th>1</th>\n",
       "      <td>44</td>\n",
       "      <td>1</td>\n",
       "      <td>4</td>\n",
       "      <td>130.0</td>\n",
       "      <td>209.0</td>\n",
       "      <td>0.0</td>\n",
       "      <td>1</td>\n",
       "      <td>127.0</td>\n",
       "      <td>0.0</td>\n",
       "      <td>0.0</td>\n",
       "      <td>NaN</td>\n",
       "      <td>NaN</td>\n",
       "      <td>NaN</td>\n",
       "      <td>0</td>\n",
       "      <td>Long Beach</td>\n",
       "    </tr>\n",
       "    <tr>\n",
       "      <th>2</th>\n",
       "      <td>60</td>\n",
       "      <td>1</td>\n",
       "      <td>4</td>\n",
       "      <td>132.0</td>\n",
       "      <td>218.0</td>\n",
       "      <td>0.0</td>\n",
       "      <td>1</td>\n",
       "      <td>140.0</td>\n",
       "      <td>1.0</td>\n",
       "      <td>1.5</td>\n",
       "      <td>3.0</td>\n",
       "      <td>NaN</td>\n",
       "      <td>NaN</td>\n",
       "      <td>2</td>\n",
       "      <td>Long Beach</td>\n",
       "    </tr>\n",
       "    <tr>\n",
       "      <th>3</th>\n",
       "      <td>55</td>\n",
       "      <td>1</td>\n",
       "      <td>4</td>\n",
       "      <td>142.0</td>\n",
       "      <td>228.0</td>\n",
       "      <td>0.0</td>\n",
       "      <td>1</td>\n",
       "      <td>149.0</td>\n",
       "      <td>1.0</td>\n",
       "      <td>2.5</td>\n",
       "      <td>1.0</td>\n",
       "      <td>NaN</td>\n",
       "      <td>NaN</td>\n",
       "      <td>1</td>\n",
       "      <td>Long Beach</td>\n",
       "    </tr>\n",
       "    <tr>\n",
       "      <th>4</th>\n",
       "      <td>66</td>\n",
       "      <td>1</td>\n",
       "      <td>3</td>\n",
       "      <td>110.0</td>\n",
       "      <td>213.0</td>\n",
       "      <td>1.0</td>\n",
       "      <td>2</td>\n",
       "      <td>99.0</td>\n",
       "      <td>1.0</td>\n",
       "      <td>1.3</td>\n",
       "      <td>2.0</td>\n",
       "      <td>NaN</td>\n",
       "      <td>NaN</td>\n",
       "      <td>0</td>\n",
       "      <td>Long Beach</td>\n",
       "    </tr>\n",
       "  </tbody>\n",
       "</table>\n",
       "</div>"
      ],
      "text/plain": [
       "   age  sex  cp  trestbps   chol  fbs  restecg  thalach  exang  oldpeak  \\\n",
       "0   63    1   4     140.0  260.0  0.0        1    112.0    1.0      3.0   \n",
       "1   44    1   4     130.0  209.0  0.0        1    127.0    0.0      0.0   \n",
       "2   60    1   4     132.0  218.0  0.0        1    140.0    1.0      1.5   \n",
       "3   55    1   4     142.0  228.0  0.0        1    149.0    1.0      2.5   \n",
       "4   66    1   3     110.0  213.0  1.0        2     99.0    1.0      1.3   \n",
       "\n",
       "   slope  ca  thal  target      region  \n",
       "0    2.0 NaN   NaN       2  Long Beach  \n",
       "1    NaN NaN   NaN       0  Long Beach  \n",
       "2    3.0 NaN   NaN       2  Long Beach  \n",
       "3    1.0 NaN   NaN       1  Long Beach  \n",
       "4    2.0 NaN   NaN       0  Long Beach  "
      ]
     },
     "execution_count": 312,
     "metadata": {},
     "output_type": "execute_result"
    }
   ],
   "source": [
    "#----------------------------LONG BEACH------------------------------------\n",
    "df_va.columns = column_names\n",
    "df_va['region']='Long Beach'\n",
    "df_va.head(5)"
   ]
  },
  {
   "cell_type": "code",
   "execution_count": 313,
   "id": "2c10df26",
   "metadata": {},
   "outputs": [
    {
     "data": {
      "text/plain": [
       "(200, 15)"
      ]
     },
     "execution_count": 313,
     "metadata": {},
     "output_type": "execute_result"
    }
   ],
   "source": [
    "df_va.shape"
   ]
  },
  {
   "cell_type": "code",
   "execution_count": 314,
   "id": "d8006a19",
   "metadata": {},
   "outputs": [
    {
     "data": {
      "text/html": [
       "<div>\n",
       "<style scoped>\n",
       "    .dataframe tbody tr th:only-of-type {\n",
       "        vertical-align: middle;\n",
       "    }\n",
       "\n",
       "    .dataframe tbody tr th {\n",
       "        vertical-align: top;\n",
       "    }\n",
       "\n",
       "    .dataframe thead th {\n",
       "        text-align: right;\n",
       "    }\n",
       "</style>\n",
       "<table border=\"1\" class=\"dataframe\">\n",
       "  <thead>\n",
       "    <tr style=\"text-align: right;\">\n",
       "      <th></th>\n",
       "      <th>age</th>\n",
       "      <th>sex</th>\n",
       "      <th>cp</th>\n",
       "      <th>trestbps</th>\n",
       "      <th>chol</th>\n",
       "      <th>fbs</th>\n",
       "      <th>restecg</th>\n",
       "      <th>thalach</th>\n",
       "      <th>exang</th>\n",
       "      <th>oldpeak</th>\n",
       "      <th>slope</th>\n",
       "      <th>ca</th>\n",
       "      <th>thal</th>\n",
       "      <th>target</th>\n",
       "      <th>region</th>\n",
       "    </tr>\n",
       "  </thead>\n",
       "  <tbody>\n",
       "    <tr>\n",
       "      <th>0</th>\n",
       "      <td>32</td>\n",
       "      <td>1</td>\n",
       "      <td>1</td>\n",
       "      <td>95.0</td>\n",
       "      <td>0</td>\n",
       "      <td>NaN</td>\n",
       "      <td>0.0</td>\n",
       "      <td>127.0</td>\n",
       "      <td>0.0</td>\n",
       "      <td>0.7</td>\n",
       "      <td>1.0</td>\n",
       "      <td>NaN</td>\n",
       "      <td>NaN</td>\n",
       "      <td>1</td>\n",
       "      <td>Switzerland</td>\n",
       "    </tr>\n",
       "    <tr>\n",
       "      <th>1</th>\n",
       "      <td>34</td>\n",
       "      <td>1</td>\n",
       "      <td>4</td>\n",
       "      <td>115.0</td>\n",
       "      <td>0</td>\n",
       "      <td>NaN</td>\n",
       "      <td>NaN</td>\n",
       "      <td>154.0</td>\n",
       "      <td>0.0</td>\n",
       "      <td>0.2</td>\n",
       "      <td>1.0</td>\n",
       "      <td>NaN</td>\n",
       "      <td>NaN</td>\n",
       "      <td>1</td>\n",
       "      <td>Switzerland</td>\n",
       "    </tr>\n",
       "    <tr>\n",
       "      <th>2</th>\n",
       "      <td>35</td>\n",
       "      <td>1</td>\n",
       "      <td>4</td>\n",
       "      <td>NaN</td>\n",
       "      <td>0</td>\n",
       "      <td>NaN</td>\n",
       "      <td>0.0</td>\n",
       "      <td>130.0</td>\n",
       "      <td>1.0</td>\n",
       "      <td>NaN</td>\n",
       "      <td>NaN</td>\n",
       "      <td>NaN</td>\n",
       "      <td>7.0</td>\n",
       "      <td>3</td>\n",
       "      <td>Switzerland</td>\n",
       "    </tr>\n",
       "    <tr>\n",
       "      <th>3</th>\n",
       "      <td>36</td>\n",
       "      <td>1</td>\n",
       "      <td>4</td>\n",
       "      <td>110.0</td>\n",
       "      <td>0</td>\n",
       "      <td>NaN</td>\n",
       "      <td>0.0</td>\n",
       "      <td>125.0</td>\n",
       "      <td>1.0</td>\n",
       "      <td>1.0</td>\n",
       "      <td>2.0</td>\n",
       "      <td>NaN</td>\n",
       "      <td>6.0</td>\n",
       "      <td>1</td>\n",
       "      <td>Switzerland</td>\n",
       "    </tr>\n",
       "    <tr>\n",
       "      <th>4</th>\n",
       "      <td>38</td>\n",
       "      <td>0</td>\n",
       "      <td>4</td>\n",
       "      <td>105.0</td>\n",
       "      <td>0</td>\n",
       "      <td>NaN</td>\n",
       "      <td>0.0</td>\n",
       "      <td>166.0</td>\n",
       "      <td>0.0</td>\n",
       "      <td>2.8</td>\n",
       "      <td>1.0</td>\n",
       "      <td>NaN</td>\n",
       "      <td>NaN</td>\n",
       "      <td>2</td>\n",
       "      <td>Switzerland</td>\n",
       "    </tr>\n",
       "  </tbody>\n",
       "</table>\n",
       "</div>"
      ],
      "text/plain": [
       "   age  sex  cp  trestbps  chol  fbs  restecg  thalach  exang  oldpeak  slope  \\\n",
       "0   32    1   1      95.0     0  NaN      0.0    127.0    0.0      0.7    1.0   \n",
       "1   34    1   4     115.0     0  NaN      NaN    154.0    0.0      0.2    1.0   \n",
       "2   35    1   4       NaN     0  NaN      0.0    130.0    1.0      NaN    NaN   \n",
       "3   36    1   4     110.0     0  NaN      0.0    125.0    1.0      1.0    2.0   \n",
       "4   38    0   4     105.0     0  NaN      0.0    166.0    0.0      2.8    1.0   \n",
       "\n",
       "   ca  thal  target       region  \n",
       "0 NaN   NaN       1  Switzerland  \n",
       "1 NaN   NaN       1  Switzerland  \n",
       "2 NaN   7.0       3  Switzerland  \n",
       "3 NaN   6.0       1  Switzerland  \n",
       "4 NaN   NaN       2  Switzerland  "
      ]
     },
     "execution_count": 314,
     "metadata": {},
     "output_type": "execute_result"
    }
   ],
   "source": [
    "#----------------------------SWITZERLAND------------------------------------\n",
    "df_switzerland.columns = column_names\n",
    "df_switzerland['region']='Switzerland'\n",
    "df_switzerland.head(5)"
   ]
  },
  {
   "cell_type": "code",
   "execution_count": 315,
   "id": "2f7f56c0",
   "metadata": {},
   "outputs": [
    {
     "data": {
      "text/plain": [
       "(123, 15)"
      ]
     },
     "execution_count": 315,
     "metadata": {},
     "output_type": "execute_result"
    }
   ],
   "source": [
    "df_switzerland.shape"
   ]
  },
  {
   "cell_type": "code",
   "execution_count": 316,
   "id": "4e9a08b6",
   "metadata": {},
   "outputs": [],
   "source": [
    "#Concatenate the 4 datasets\n",
    "\n",
    "df_conc = pd.concat([df_cleveland, df_hungarian, df_va, df_switzerland], axis = 0)"
   ]
  },
  {
   "cell_type": "markdown",
   "id": "86d72b8a",
   "metadata": {},
   "source": [
    "# DATA PREPARATION\n",
    "###  Merged database: conc"
   ]
  },
  {
   "cell_type": "code",
   "execution_count": 317,
   "id": "fa641a99",
   "metadata": {},
   "outputs": [
    {
     "data": {
      "text/html": [
       "<div>\n",
       "<style scoped>\n",
       "    .dataframe tbody tr th:only-of-type {\n",
       "        vertical-align: middle;\n",
       "    }\n",
       "\n",
       "    .dataframe tbody tr th {\n",
       "        vertical-align: top;\n",
       "    }\n",
       "\n",
       "    .dataframe thead th {\n",
       "        text-align: right;\n",
       "    }\n",
       "</style>\n",
       "<table border=\"1\" class=\"dataframe\">\n",
       "  <thead>\n",
       "    <tr style=\"text-align: right;\">\n",
       "      <th></th>\n",
       "      <th>age</th>\n",
       "      <th>sex</th>\n",
       "      <th>cp</th>\n",
       "      <th>trestbps</th>\n",
       "      <th>chol</th>\n",
       "      <th>fbs</th>\n",
       "      <th>restecg</th>\n",
       "      <th>thalach</th>\n",
       "      <th>exang</th>\n",
       "      <th>oldpeak</th>\n",
       "      <th>slope</th>\n",
       "      <th>ca</th>\n",
       "      <th>thal</th>\n",
       "      <th>target</th>\n",
       "      <th>region</th>\n",
       "    </tr>\n",
       "  </thead>\n",
       "  <tbody>\n",
       "    <tr>\n",
       "      <th>0</th>\n",
       "      <td>63.0</td>\n",
       "      <td>1.0</td>\n",
       "      <td>1.0</td>\n",
       "      <td>145.0</td>\n",
       "      <td>233.0</td>\n",
       "      <td>1.0</td>\n",
       "      <td>2.0</td>\n",
       "      <td>150.0</td>\n",
       "      <td>0.0</td>\n",
       "      <td>2.3</td>\n",
       "      <td>3.0</td>\n",
       "      <td>0.0</td>\n",
       "      <td>6.0</td>\n",
       "      <td>0</td>\n",
       "      <td>Cleveland</td>\n",
       "    </tr>\n",
       "    <tr>\n",
       "      <th>1</th>\n",
       "      <td>67.0</td>\n",
       "      <td>1.0</td>\n",
       "      <td>4.0</td>\n",
       "      <td>160.0</td>\n",
       "      <td>286.0</td>\n",
       "      <td>0.0</td>\n",
       "      <td>2.0</td>\n",
       "      <td>108.0</td>\n",
       "      <td>1.0</td>\n",
       "      <td>1.5</td>\n",
       "      <td>2.0</td>\n",
       "      <td>3.0</td>\n",
       "      <td>3.0</td>\n",
       "      <td>2</td>\n",
       "      <td>Cleveland</td>\n",
       "    </tr>\n",
       "    <tr>\n",
       "      <th>2</th>\n",
       "      <td>67.0</td>\n",
       "      <td>1.0</td>\n",
       "      <td>4.0</td>\n",
       "      <td>120.0</td>\n",
       "      <td>229.0</td>\n",
       "      <td>0.0</td>\n",
       "      <td>2.0</td>\n",
       "      <td>129.0</td>\n",
       "      <td>1.0</td>\n",
       "      <td>2.6</td>\n",
       "      <td>2.0</td>\n",
       "      <td>2.0</td>\n",
       "      <td>7.0</td>\n",
       "      <td>1</td>\n",
       "      <td>Cleveland</td>\n",
       "    </tr>\n",
       "    <tr>\n",
       "      <th>3</th>\n",
       "      <td>37.0</td>\n",
       "      <td>1.0</td>\n",
       "      <td>3.0</td>\n",
       "      <td>130.0</td>\n",
       "      <td>250.0</td>\n",
       "      <td>0.0</td>\n",
       "      <td>0.0</td>\n",
       "      <td>187.0</td>\n",
       "      <td>0.0</td>\n",
       "      <td>3.5</td>\n",
       "      <td>3.0</td>\n",
       "      <td>0.0</td>\n",
       "      <td>3.0</td>\n",
       "      <td>0</td>\n",
       "      <td>Cleveland</td>\n",
       "    </tr>\n",
       "    <tr>\n",
       "      <th>4</th>\n",
       "      <td>41.0</td>\n",
       "      <td>0.0</td>\n",
       "      <td>2.0</td>\n",
       "      <td>130.0</td>\n",
       "      <td>204.0</td>\n",
       "      <td>0.0</td>\n",
       "      <td>2.0</td>\n",
       "      <td>172.0</td>\n",
       "      <td>0.0</td>\n",
       "      <td>1.4</td>\n",
       "      <td>1.0</td>\n",
       "      <td>0.0</td>\n",
       "      <td>3.0</td>\n",
       "      <td>0</td>\n",
       "      <td>Cleveland</td>\n",
       "    </tr>\n",
       "    <tr>\n",
       "      <th>...</th>\n",
       "      <td>...</td>\n",
       "      <td>...</td>\n",
       "      <td>...</td>\n",
       "      <td>...</td>\n",
       "      <td>...</td>\n",
       "      <td>...</td>\n",
       "      <td>...</td>\n",
       "      <td>...</td>\n",
       "      <td>...</td>\n",
       "      <td>...</td>\n",
       "      <td>...</td>\n",
       "      <td>...</td>\n",
       "      <td>...</td>\n",
       "      <td>...</td>\n",
       "      <td>...</td>\n",
       "    </tr>\n",
       "    <tr>\n",
       "      <th>118</th>\n",
       "      <td>70.0</td>\n",
       "      <td>1.0</td>\n",
       "      <td>4.0</td>\n",
       "      <td>115.0</td>\n",
       "      <td>0.0</td>\n",
       "      <td>0.0</td>\n",
       "      <td>1.0</td>\n",
       "      <td>92.0</td>\n",
       "      <td>1.0</td>\n",
       "      <td>0.0</td>\n",
       "      <td>2.0</td>\n",
       "      <td>NaN</td>\n",
       "      <td>7.0</td>\n",
       "      <td>1</td>\n",
       "      <td>Switzerland</td>\n",
       "    </tr>\n",
       "    <tr>\n",
       "      <th>119</th>\n",
       "      <td>70.0</td>\n",
       "      <td>1.0</td>\n",
       "      <td>4.0</td>\n",
       "      <td>140.0</td>\n",
       "      <td>0.0</td>\n",
       "      <td>1.0</td>\n",
       "      <td>0.0</td>\n",
       "      <td>157.0</td>\n",
       "      <td>1.0</td>\n",
       "      <td>2.0</td>\n",
       "      <td>2.0</td>\n",
       "      <td>NaN</td>\n",
       "      <td>7.0</td>\n",
       "      <td>3</td>\n",
       "      <td>Switzerland</td>\n",
       "    </tr>\n",
       "    <tr>\n",
       "      <th>120</th>\n",
       "      <td>72.0</td>\n",
       "      <td>1.0</td>\n",
       "      <td>3.0</td>\n",
       "      <td>160.0</td>\n",
       "      <td>0.0</td>\n",
       "      <td>NaN</td>\n",
       "      <td>2.0</td>\n",
       "      <td>114.0</td>\n",
       "      <td>0.0</td>\n",
       "      <td>1.6</td>\n",
       "      <td>2.0</td>\n",
       "      <td>2.0</td>\n",
       "      <td>NaN</td>\n",
       "      <td>0</td>\n",
       "      <td>Switzerland</td>\n",
       "    </tr>\n",
       "    <tr>\n",
       "      <th>121</th>\n",
       "      <td>73.0</td>\n",
       "      <td>0.0</td>\n",
       "      <td>3.0</td>\n",
       "      <td>160.0</td>\n",
       "      <td>0.0</td>\n",
       "      <td>0.0</td>\n",
       "      <td>1.0</td>\n",
       "      <td>121.0</td>\n",
       "      <td>0.0</td>\n",
       "      <td>0.0</td>\n",
       "      <td>1.0</td>\n",
       "      <td>NaN</td>\n",
       "      <td>3.0</td>\n",
       "      <td>1</td>\n",
       "      <td>Switzerland</td>\n",
       "    </tr>\n",
       "    <tr>\n",
       "      <th>122</th>\n",
       "      <td>74.0</td>\n",
       "      <td>1.0</td>\n",
       "      <td>2.0</td>\n",
       "      <td>145.0</td>\n",
       "      <td>0.0</td>\n",
       "      <td>NaN</td>\n",
       "      <td>1.0</td>\n",
       "      <td>123.0</td>\n",
       "      <td>0.0</td>\n",
       "      <td>1.3</td>\n",
       "      <td>1.0</td>\n",
       "      <td>NaN</td>\n",
       "      <td>NaN</td>\n",
       "      <td>1</td>\n",
       "      <td>Switzerland</td>\n",
       "    </tr>\n",
       "  </tbody>\n",
       "</table>\n",
       "<p>920 rows × 15 columns</p>\n",
       "</div>"
      ],
      "text/plain": [
       "      age  sex   cp  trestbps   chol  fbs  restecg  thalach  exang  oldpeak  \\\n",
       "0    63.0  1.0  1.0     145.0  233.0  1.0      2.0    150.0    0.0      2.3   \n",
       "1    67.0  1.0  4.0     160.0  286.0  0.0      2.0    108.0    1.0      1.5   \n",
       "2    67.0  1.0  4.0     120.0  229.0  0.0      2.0    129.0    1.0      2.6   \n",
       "3    37.0  1.0  3.0     130.0  250.0  0.0      0.0    187.0    0.0      3.5   \n",
       "4    41.0  0.0  2.0     130.0  204.0  0.0      2.0    172.0    0.0      1.4   \n",
       "..    ...  ...  ...       ...    ...  ...      ...      ...    ...      ...   \n",
       "118  70.0  1.0  4.0     115.0    0.0  0.0      1.0     92.0    1.0      0.0   \n",
       "119  70.0  1.0  4.0     140.0    0.0  1.0      0.0    157.0    1.0      2.0   \n",
       "120  72.0  1.0  3.0     160.0    0.0  NaN      2.0    114.0    0.0      1.6   \n",
       "121  73.0  0.0  3.0     160.0    0.0  0.0      1.0    121.0    0.0      0.0   \n",
       "122  74.0  1.0  2.0     145.0    0.0  NaN      1.0    123.0    0.0      1.3   \n",
       "\n",
       "     slope   ca  thal  target       region  \n",
       "0      3.0  0.0   6.0       0    Cleveland  \n",
       "1      2.0  3.0   3.0       2    Cleveland  \n",
       "2      2.0  2.0   7.0       1    Cleveland  \n",
       "3      3.0  0.0   3.0       0    Cleveland  \n",
       "4      1.0  0.0   3.0       0    Cleveland  \n",
       "..     ...  ...   ...     ...          ...  \n",
       "118    2.0  NaN   7.0       1  Switzerland  \n",
       "119    2.0  NaN   7.0       3  Switzerland  \n",
       "120    2.0  2.0   NaN       0  Switzerland  \n",
       "121    1.0  NaN   3.0       1  Switzerland  \n",
       "122    1.0  NaN   NaN       1  Switzerland  \n",
       "\n",
       "[920 rows x 15 columns]"
      ]
     },
     "execution_count": 317,
     "metadata": {},
     "output_type": "execute_result"
    }
   ],
   "source": [
    "df_conc"
   ]
  },
  {
   "cell_type": "code",
   "execution_count": 318,
   "id": "b892b43a",
   "metadata": {},
   "outputs": [
    {
     "data": {
      "text/plain": [
       "(920, 15)"
      ]
     },
     "execution_count": 318,
     "metadata": {},
     "output_type": "execute_result"
    }
   ],
   "source": [
    "df_conc.shape"
   ]
  },
  {
   "cell_type": "code",
   "execution_count": 319,
   "id": "b7d883db",
   "metadata": {},
   "outputs": [
    {
     "data": {
      "text/plain": [
       "age         float64\n",
       "sex         float64\n",
       "cp          float64\n",
       "trestbps    float64\n",
       "chol        float64\n",
       "fbs         float64\n",
       "restecg     float64\n",
       "thalach     float64\n",
       "exang       float64\n",
       "oldpeak     float64\n",
       "slope       float64\n",
       "ca          float64\n",
       "thal        float64\n",
       "target        int64\n",
       "region       object\n",
       "dtype: object"
      ]
     },
     "execution_count": 319,
     "metadata": {},
     "output_type": "execute_result"
    }
   ],
   "source": [
    "#Data type of the merged dataframe\n",
    "df_conc.dtypes"
   ]
  },
  {
   "cell_type": "code",
   "execution_count": 320,
   "id": "28c2a6d1",
   "metadata": {},
   "outputs": [],
   "source": [
    "#Fix Data type\n",
    "lst=['sex', 'cp', 'fbs', 'restecg', 'exang', 'slope', 'ca', 'thal', 'target']\n",
    "df_conc[lst] = df_conc[lst].astype(object)"
   ]
  },
  {
   "cell_type": "code",
   "execution_count": 321,
   "id": "e4057461",
   "metadata": {},
   "outputs": [
    {
     "data": {
      "text/plain": [
       "age         float64\n",
       "sex          object\n",
       "cp           object\n",
       "trestbps    float64\n",
       "chol        float64\n",
       "fbs          object\n",
       "restecg      object\n",
       "thalach     float64\n",
       "exang        object\n",
       "oldpeak     float64\n",
       "slope        object\n",
       "ca           object\n",
       "thal         object\n",
       "target       object\n",
       "region       object\n",
       "dtype: object"
      ]
     },
     "execution_count": 321,
     "metadata": {},
     "output_type": "execute_result"
    }
   ],
   "source": [
    "df_conc.dtypes"
   ]
  },
  {
   "cell_type": "code",
   "execution_count": 322,
   "id": "a595f488",
   "metadata": {},
   "outputs": [
    {
     "data": {
      "text/plain": [
       "array([63., 67., 37., 41., 56., 62., 57., 53., 44., 52., 48., 54., 49.,\n",
       "       64., 58., 60., 50., 66., 43., 40., 69., 59., 42., 55., 61., 65.,\n",
       "       71., 51., 46., 45., 39., 68., 47., 34., 35., 29., 70., 77., 38.,\n",
       "       74., 76., 28., 30., 31., 32., 33., 36., 72., 75., 73.])"
      ]
     },
     "execution_count": 322,
     "metadata": {},
     "output_type": "execute_result"
    }
   ],
   "source": [
    "#----------------------------------DATA CLEANING----------------------------------------------------\n",
    "#Checking for outliers in Attribute: Age \n",
    "\n",
    "df_conc['age'].unique() "
   ]
  },
  {
   "cell_type": "code",
   "execution_count": 323,
   "id": "3ee07e70",
   "metadata": {},
   "outputs": [
    {
     "data": {
      "text/plain": [
       "array([1.0, 0.0], dtype=object)"
      ]
     },
     "execution_count": 323,
     "metadata": {},
     "output_type": "execute_result"
    }
   ],
   "source": [
    "#Checking for outliers in Attribute: Sex (1 = male; 0 = female)\n",
    "df_conc['sex'].unique() "
   ]
  },
  {
   "cell_type": "code",
   "execution_count": 324,
   "id": "df9e7d36",
   "metadata": {},
   "outputs": [
    {
     "data": {
      "text/plain": [
       "array([1.0, 4.0, 3.0, 2.0], dtype=object)"
      ]
     },
     "execution_count": 324,
     "metadata": {},
     "output_type": "execute_result"
    }
   ],
   "source": [
    "#Checking for outliers in Attribute: cp: chest pain type(1=typical angina, 2=atypical angina, 3=non-anginal pain, 4=asymptomatic)\n",
    "df_conc['cp'].unique() "
   ]
  },
  {
   "cell_type": "code",
   "execution_count": 325,
   "id": "0be2f882",
   "metadata": {},
   "outputs": [
    {
     "data": {
      "text/plain": [
       "array([145., 160., 120., 130., 140., 172., 150., 110., 132., 117., 135.,\n",
       "       112., 105., 124., 125., 142., 128., 170., 155., 104., 180., 138.,\n",
       "       108., 134., 122., 115., 118., 100., 200.,  94., 165., 102., 152.,\n",
       "       101., 126., 174., 148., 178., 158., 192., 129., 144., 123., 136.,\n",
       "       146., 106., 156., 154., 114., 164.,  98., 190.,  nan, 113.,  92.,\n",
       "       116.,   0.,  96., 127.,  95.,  80., 185.])"
      ]
     },
     "execution_count": 325,
     "metadata": {},
     "output_type": "execute_result"
    }
   ],
   "source": [
    "#Checking for outliers in Attribute: trstbps =resting blood pressure (in mm Hg on admission to the hospital)\n",
    "\n",
    "df_conc['trestbps'].unique() "
   ]
  },
  {
   "cell_type": "code",
   "execution_count": 326,
   "id": "906a7ce2",
   "metadata": {},
   "outputs": [],
   "source": [
    "#Zero is outliers then replace it as NaN\n",
    "df_conc['trestbps'].replace(0, 'NaN' ,inplace=True)"
   ]
  },
  {
   "cell_type": "code",
   "execution_count": 327,
   "id": "966181c7",
   "metadata": {},
   "outputs": [
    {
     "data": {
      "text/plain": [
       "array([145.0, 160.0, 120.0, 130.0, 140.0, 172.0, 150.0, 110.0, 132.0,\n",
       "       117.0, 135.0, 112.0, 105.0, 124.0, 125.0, 142.0, 128.0, 170.0,\n",
       "       155.0, 104.0, 180.0, 138.0, 108.0, 134.0, 122.0, 115.0, 118.0,\n",
       "       100.0, 200.0, 94.0, 165.0, 102.0, 152.0, 101.0, 126.0, 174.0,\n",
       "       148.0, 178.0, 158.0, 192.0, 129.0, 144.0, 123.0, 136.0, 146.0,\n",
       "       106.0, 156.0, 154.0, 114.0, 164.0, 98.0, 190.0, nan, 113.0, 92.0,\n",
       "       116.0, 'NaN', 96.0, 127.0, 95.0, 80.0, 185.0], dtype=object)"
      ]
     },
     "execution_count": 327,
     "metadata": {},
     "output_type": "execute_result"
    }
   ],
   "source": [
    "df_conc['trestbps'].unique()"
   ]
  },
  {
   "cell_type": "code",
   "execution_count": 328,
   "id": "895b4d36",
   "metadata": {},
   "outputs": [
    {
     "data": {
      "text/plain": [
       "array([233., 286., 229., 250., 204., 236., 268., 354., 254., 203., 192.,\n",
       "       294., 256., 263., 199., 168., 239., 275., 266., 211., 283., 284.,\n",
       "       224., 206., 219., 340., 226., 247., 167., 230., 335., 234., 177.,\n",
       "       276., 353., 243., 225., 302., 212., 330., 175., 417., 197., 198.,\n",
       "       290., 253., 172., 273., 213., 305., 216., 304., 188., 282., 185.,\n",
       "       232., 326., 231., 269., 267., 248., 360., 258., 308., 245., 270.,\n",
       "       208., 264., 321., 274., 325., 235., 257., 164., 141., 252., 255.,\n",
       "       201., 222., 260., 182., 303., 265., 309., 307., 249., 186., 341.,\n",
       "       183., 407., 217., 288., 220., 209., 227., 261., 174., 281., 221.,\n",
       "       205., 240., 289., 318., 298., 564., 246., 322., 299., 300., 293.,\n",
       "       277., 214., 207., 223., 160., 394., 184., 315., 409., 244., 195.,\n",
       "       196., 126., 313., 259., 200., 262., 215., 228., 193., 271., 210.,\n",
       "       327., 149., 295., 306., 178., 237., 218., 242., 319., 166., 180.,\n",
       "       311., 278., 342., 169., 187., 157., 176., 241., 131., 132.,  nan,\n",
       "       161., 173., 194., 297., 292., 339., 147., 291., 358., 412., 238.,\n",
       "       163., 280., 202., 328., 129., 190., 179., 272., 100., 468., 320.,\n",
       "       312., 171., 365., 344.,  85., 347., 251., 287., 156., 117., 466.,\n",
       "       338., 529., 392., 329., 355., 603., 404., 518., 285., 279., 388.,\n",
       "       336., 491., 331., 393.,   0., 153., 316., 458., 384., 349., 142.,\n",
       "       181., 310., 170., 369., 165., 337., 333., 139., 385.])"
      ]
     },
     "execution_count": 328,
     "metadata": {},
     "output_type": "execute_result"
    }
   ],
   "source": [
    "#Checking for outliers in Attribute:chol = serum cholestoral in mg/dl\n",
    "df_conc['chol'].unique()"
   ]
  },
  {
   "cell_type": "code",
   "execution_count": 329,
   "id": "863871e6",
   "metadata": {},
   "outputs": [],
   "source": [
    "df_conc['chol'].replace(0, 'NaN' ,inplace=True)"
   ]
  },
  {
   "cell_type": "code",
   "execution_count": 330,
   "id": "c20861f2",
   "metadata": {},
   "outputs": [
    {
     "data": {
      "text/plain": [
       "array([233.0, 286.0, 229.0, 250.0, 204.0, 236.0, 268.0, 354.0, 254.0,\n",
       "       203.0, 192.0, 294.0, 256.0, 263.0, 199.0, 168.0, 239.0, 275.0,\n",
       "       266.0, 211.0, 283.0, 284.0, 224.0, 206.0, 219.0, 340.0, 226.0,\n",
       "       247.0, 167.0, 230.0, 335.0, 234.0, 177.0, 276.0, 353.0, 243.0,\n",
       "       225.0, 302.0, 212.0, 330.0, 175.0, 417.0, 197.0, 198.0, 290.0,\n",
       "       253.0, 172.0, 273.0, 213.0, 305.0, 216.0, 304.0, 188.0, 282.0,\n",
       "       185.0, 232.0, 326.0, 231.0, 269.0, 267.0, 248.0, 360.0, 258.0,\n",
       "       308.0, 245.0, 270.0, 208.0, 264.0, 321.0, 274.0, 325.0, 235.0,\n",
       "       257.0, 164.0, 141.0, 252.0, 255.0, 201.0, 222.0, 260.0, 182.0,\n",
       "       303.0, 265.0, 309.0, 307.0, 249.0, 186.0, 341.0, 183.0, 407.0,\n",
       "       217.0, 288.0, 220.0, 209.0, 227.0, 261.0, 174.0, 281.0, 221.0,\n",
       "       205.0, 240.0, 289.0, 318.0, 298.0, 564.0, 246.0, 322.0, 299.0,\n",
       "       300.0, 293.0, 277.0, 214.0, 207.0, 223.0, 160.0, 394.0, 184.0,\n",
       "       315.0, 409.0, 244.0, 195.0, 196.0, 126.0, 313.0, 259.0, 200.0,\n",
       "       262.0, 215.0, 228.0, 193.0, 271.0, 210.0, 327.0, 149.0, 295.0,\n",
       "       306.0, 178.0, 237.0, 218.0, 242.0, 319.0, 166.0, 180.0, 311.0,\n",
       "       278.0, 342.0, 169.0, 187.0, 157.0, 176.0, 241.0, 131.0, 132.0, nan,\n",
       "       161.0, 173.0, 194.0, 297.0, 292.0, 339.0, 147.0, 291.0, 358.0,\n",
       "       412.0, 238.0, 163.0, 280.0, 202.0, 328.0, 129.0, 190.0, 179.0,\n",
       "       272.0, 100.0, 468.0, 320.0, 312.0, 171.0, 365.0, 344.0, 85.0,\n",
       "       347.0, 251.0, 287.0, 156.0, 117.0, 466.0, 338.0, 529.0, 392.0,\n",
       "       329.0, 355.0, 603.0, 404.0, 518.0, 285.0, 279.0, 388.0, 336.0,\n",
       "       491.0, 331.0, 393.0, 'NaN', 153.0, 316.0, 458.0, 384.0, 349.0,\n",
       "       142.0, 181.0, 310.0, 170.0, 369.0, 165.0, 337.0, 333.0, 139.0,\n",
       "       385.0], dtype=object)"
      ]
     },
     "execution_count": 330,
     "metadata": {},
     "output_type": "execute_result"
    }
   ],
   "source": [
    "df_conc['chol'].unique()"
   ]
  },
  {
   "cell_type": "code",
   "execution_count": 331,
   "id": "1ed7e95d",
   "metadata": {},
   "outputs": [
    {
     "data": {
      "text/plain": [
       "array([1.0, 0.0, nan], dtype=object)"
      ]
     },
     "execution_count": 331,
     "metadata": {},
     "output_type": "execute_result"
    }
   ],
   "source": [
    "#Checking for outliers in Attribute:fbs= (fasting blood sugar > 120 mg/dl)  (1 = true; 0 = false)\n",
    "df_conc['fbs'].unique()"
   ]
  },
  {
   "cell_type": "code",
   "execution_count": 332,
   "id": "f8c3e47a",
   "metadata": {},
   "outputs": [
    {
     "data": {
      "text/plain": [
       "array([2.0, 0.0, 1.0, nan], dtype=object)"
      ]
     },
     "execution_count": 332,
     "metadata": {},
     "output_type": "execute_result"
    }
   ],
   "source": [
    "#Checking for outliers in Attribute: restecg: resting electrocardiographic results (0=normal, 1=having ST-T wave abnormality (T wave inversions and/or ST elevation or depression of > 0.05 mV), 2= showing probable or definite left ventricular hypertrophy  by Estes' criteria\n",
    "\n",
    "df_conc['restecg'].unique()"
   ]
  },
  {
   "cell_type": "code",
   "execution_count": 333,
   "id": "265131bf",
   "metadata": {},
   "outputs": [
    {
     "data": {
      "text/plain": [
       "array([150., 108., 129., 187., 172., 178., 160., 163., 147., 155., 148.,\n",
       "       153., 142., 173., 162., 174., 168., 139., 171., 144., 132., 158.,\n",
       "       114., 151., 161., 179., 120., 112., 137., 157., 169., 165., 123.,\n",
       "       128., 152., 140., 188., 109., 125., 131., 170., 113.,  99., 177.,\n",
       "       141., 180., 111., 143., 182., 156., 115., 149., 145., 146., 175.,\n",
       "       186., 185., 159., 130., 190., 136.,  97., 127., 154., 133., 126.,\n",
       "       202., 103., 166., 164., 184., 124., 122.,  96., 138.,  88., 105.,\n",
       "       194., 195., 106., 167.,  95., 192., 117., 121., 116.,  71., 118.,\n",
       "       181., 134.,  90.,  98., 176., 135., 110.,  nan, 100.,  87., 102.,\n",
       "        92.,  91.,  82., 119.,  94.,  86.,  84.,  80., 107.,  69.,  73.,\n",
       "        93., 104.,  60.,  83.,  63.,  70.,  77.,  72.,  78.,  67.])"
      ]
     },
     "execution_count": 333,
     "metadata": {},
     "output_type": "execute_result"
    }
   ],
   "source": [
    "#Checking for outliers in Attribute:  thalach: maximum heart rate achieved\n",
    "\n",
    "df_conc['thalach'].unique()"
   ]
  },
  {
   "cell_type": "code",
   "execution_count": 334,
   "id": "9b6e102a",
   "metadata": {},
   "outputs": [
    {
     "data": {
      "text/plain": [
       "array([0.0, 1.0, nan], dtype=object)"
      ]
     },
     "execution_count": 334,
     "metadata": {},
     "output_type": "execute_result"
    }
   ],
   "source": [
    "#Checking for outliers in Attribute: exang: exercise induced angina (1 = yes; 0 = no)\n",
    "\n",
    "df_conc['exang'].unique()"
   ]
  },
  {
   "cell_type": "code",
   "execution_count": 335,
   "id": "12774e1f",
   "metadata": {},
   "outputs": [
    {
     "data": {
      "text/plain": [
       "array([ 2.3,  1.5,  2.6,  3.5,  1.4,  0.8,  3.6,  0.6,  3.1,  0.4,  1.3,\n",
       "        0. ,  0.5,  1.6,  1. ,  1.2,  0.2,  1.8,  3.2,  2.4,  2. ,  2.5,\n",
       "        2.2,  2.8,  3. ,  3.4,  6.2,  4. ,  5.6,  2.9,  0.1,  2.1,  1.9,\n",
       "        4.2,  0.9,  1.1,  3.8,  0.7,  0.3,  4.4,  5. , -0.5,  nan,  1.7,\n",
       "       -1.1, -1.5, -0.1, -2.6, -0.7, -2. , -1. , -0.8, -0.9,  3.7])"
      ]
     },
     "execution_count": 335,
     "metadata": {},
     "output_type": "execute_result"
    }
   ],
   "source": [
    "#Checking for outliers in Attribute: oldpeak = ST depression induced by exercise relative to rest\n",
    "\n",
    "df_conc['oldpeak'].unique()"
   ]
  },
  {
   "cell_type": "code",
   "execution_count": 336,
   "id": "7b5d9124",
   "metadata": {},
   "outputs": [
    {
     "data": {
      "text/plain": [
       "array([3.0, 2.0, 1.0, nan], dtype=object)"
      ]
     },
     "execution_count": 336,
     "metadata": {},
     "output_type": "execute_result"
    }
   ],
   "source": [
    "#Checking for outliers in Attribute: slope: the slope of the peak exercise ST segment (1=upsloping, 2=flat, 3=downsloping)\n",
    "df_conc['slope'].unique()"
   ]
  },
  {
   "cell_type": "code",
   "execution_count": 337,
   "id": "fe064947",
   "metadata": {},
   "outputs": [
    {
     "data": {
      "text/plain": [
       "array([0.0, 3.0, 2.0, 1.0, nan], dtype=object)"
      ]
     },
     "execution_count": 337,
     "metadata": {},
     "output_type": "execute_result"
    }
   ],
   "source": [
    "#Checking for outliers in Attribute: ca: number of major vessels (0-3) colored by flourosopy\n",
    "\n",
    "df_conc['ca'].unique()"
   ]
  },
  {
   "cell_type": "code",
   "execution_count": 338,
   "id": "9fc88e73",
   "metadata": {},
   "outputs": [
    {
     "data": {
      "text/plain": [
       "array([6.0, 3.0, 7.0, nan], dtype=object)"
      ]
     },
     "execution_count": 338,
     "metadata": {},
     "output_type": "execute_result"
    }
   ],
   "source": [
    "#Checking for outliers in Attribute: thal: 3 = normal; 6 = fixed defect; 7 = reversable defect\n",
    "\n",
    "df_conc['thal'].unique()"
   ]
  },
  {
   "cell_type": "code",
   "execution_count": 339,
   "id": "ec8e0951",
   "metadata": {},
   "outputs": [
    {
     "data": {
      "text/plain": [
       "array([0, 2, 1, 3, 4], dtype=object)"
      ]
     },
     "execution_count": 339,
     "metadata": {},
     "output_type": "execute_result"
    }
   ],
   "source": [
    "#Checking for outliers in Attribute: target (the predicted attribute) = diagnosis of heart disease = presence (values 1,2,3,4), absence (value 0).  \n",
    "df_conc['target'].unique()"
   ]
  },
  {
   "cell_type": "code",
   "execution_count": 340,
   "id": "3dfea26b",
   "metadata": {},
   "outputs": [
    {
     "data": {
      "text/plain": [
       "array([0, 1], dtype=object)"
      ]
     },
     "execution_count": 340,
     "metadata": {},
     "output_type": "execute_result"
    }
   ],
   "source": [
    "#For better understanding the presence values will be reduced only to 1\n",
    "df_conc.loc[df_conc.target > 1, 'target'] = 1\n",
    "df_conc['target'].unique()"
   ]
  },
  {
   "cell_type": "code",
   "execution_count": 341,
   "id": "da8f4579",
   "metadata": {},
   "outputs": [
    {
     "name": "stdout",
     "output_type": "stream",
     "text": [
      "age           0\n",
      "sex           0\n",
      "cp            0\n",
      "trestbps     59\n",
      "chol         30\n",
      "fbs          90\n",
      "restecg       2\n",
      "thalach      55\n",
      "exang        55\n",
      "oldpeak      62\n",
      "slope       309\n",
      "ca          611\n",
      "thal        486\n",
      "target        0\n",
      "region        0\n",
      "dtype: int64\n"
     ]
    }
   ],
   "source": [
    "#Total of null values\n",
    "print(pd.isnull(df_conc).sum())\n"
   ]
  },
  {
   "cell_type": "code",
   "execution_count": 342,
   "id": "48d4ce98",
   "metadata": {},
   "outputs": [
    {
     "name": "stdout",
     "output_type": "stream",
     "text": [
      "age         920\n",
      "sex         920\n",
      "cp          920\n",
      "trestbps    861\n",
      "chol        890\n",
      "fbs         830\n",
      "restecg     918\n",
      "thalach     865\n",
      "exang       865\n",
      "oldpeak     858\n",
      "slope       611\n",
      "ca          309\n",
      "thal        434\n",
      "target      920\n",
      "region      920\n",
      "dtype: int64\n"
     ]
    }
   ],
   "source": [
    "#Real values\n",
    "print(pd.notnull(df_conc).sum())"
   ]
  },
  {
   "cell_type": "code",
   "execution_count": 343,
   "id": "c5869e02",
   "metadata": {},
   "outputs": [
    {
     "data": {
      "text/plain": [
       "2"
      ]
     },
     "execution_count": 343,
     "metadata": {},
     "output_type": "execute_result"
    }
   ],
   "source": [
    "#Look for duplicates\n",
    "df_conc.duplicated().sum()"
   ]
  },
  {
   "cell_type": "code",
   "execution_count": 344,
   "id": "1f1dc0ce",
   "metadata": {},
   "outputs": [
    {
     "data": {
      "text/html": [
       "<div>\n",
       "<style scoped>\n",
       "    .dataframe tbody tr th:only-of-type {\n",
       "        vertical-align: middle;\n",
       "    }\n",
       "\n",
       "    .dataframe tbody tr th {\n",
       "        vertical-align: top;\n",
       "    }\n",
       "\n",
       "    .dataframe thead th {\n",
       "        text-align: right;\n",
       "    }\n",
       "</style>\n",
       "<table border=\"1\" class=\"dataframe\">\n",
       "  <thead>\n",
       "    <tr style=\"text-align: right;\">\n",
       "      <th></th>\n",
       "      <th>age</th>\n",
       "      <th>sex</th>\n",
       "      <th>cp</th>\n",
       "      <th>trestbps</th>\n",
       "      <th>chol</th>\n",
       "      <th>fbs</th>\n",
       "      <th>restecg</th>\n",
       "      <th>thalach</th>\n",
       "      <th>exang</th>\n",
       "      <th>oldpeak</th>\n",
       "      <th>slope</th>\n",
       "      <th>ca</th>\n",
       "      <th>thal</th>\n",
       "      <th>target</th>\n",
       "      <th>region</th>\n",
       "    </tr>\n",
       "  </thead>\n",
       "  <tbody>\n",
       "    <tr>\n",
       "      <th>101</th>\n",
       "      <td>49.0</td>\n",
       "      <td>0.0</td>\n",
       "      <td>2.0</td>\n",
       "      <td>110.0</td>\n",
       "      <td>NaN</td>\n",
       "      <td>0.0</td>\n",
       "      <td>0.0</td>\n",
       "      <td>160.0</td>\n",
       "      <td>0.0</td>\n",
       "      <td>0.0</td>\n",
       "      <td>NaN</td>\n",
       "      <td>NaN</td>\n",
       "      <td>NaN</td>\n",
       "      <td>0</td>\n",
       "      <td>Hungary</td>\n",
       "    </tr>\n",
       "    <tr>\n",
       "      <th>102</th>\n",
       "      <td>49.0</td>\n",
       "      <td>0.0</td>\n",
       "      <td>2.0</td>\n",
       "      <td>110.0</td>\n",
       "      <td>NaN</td>\n",
       "      <td>0.0</td>\n",
       "      <td>0.0</td>\n",
       "      <td>160.0</td>\n",
       "      <td>0.0</td>\n",
       "      <td>0.0</td>\n",
       "      <td>NaN</td>\n",
       "      <td>NaN</td>\n",
       "      <td>NaN</td>\n",
       "      <td>0</td>\n",
       "      <td>Hungary</td>\n",
       "    </tr>\n",
       "    <tr>\n",
       "      <th>139</th>\n",
       "      <td>58.0</td>\n",
       "      <td>1.0</td>\n",
       "      <td>3.0</td>\n",
       "      <td>150.0</td>\n",
       "      <td>219.0</td>\n",
       "      <td>0.0</td>\n",
       "      <td>1.0</td>\n",
       "      <td>118.0</td>\n",
       "      <td>1.0</td>\n",
       "      <td>0.0</td>\n",
       "      <td>NaN</td>\n",
       "      <td>NaN</td>\n",
       "      <td>NaN</td>\n",
       "      <td>1</td>\n",
       "      <td>Long Beach</td>\n",
       "    </tr>\n",
       "    <tr>\n",
       "      <th>187</th>\n",
       "      <td>58.0</td>\n",
       "      <td>1.0</td>\n",
       "      <td>3.0</td>\n",
       "      <td>150.0</td>\n",
       "      <td>219.0</td>\n",
       "      <td>0.0</td>\n",
       "      <td>1.0</td>\n",
       "      <td>118.0</td>\n",
       "      <td>1.0</td>\n",
       "      <td>0.0</td>\n",
       "      <td>NaN</td>\n",
       "      <td>NaN</td>\n",
       "      <td>NaN</td>\n",
       "      <td>1</td>\n",
       "      <td>Long Beach</td>\n",
       "    </tr>\n",
       "  </tbody>\n",
       "</table>\n",
       "</div>"
      ],
      "text/plain": [
       "      age  sex   cp trestbps   chol  fbs restecg  thalach exang  oldpeak  \\\n",
       "101  49.0  0.0  2.0    110.0    NaN  0.0     0.0    160.0   0.0      0.0   \n",
       "102  49.0  0.0  2.0    110.0    NaN  0.0     0.0    160.0   0.0      0.0   \n",
       "139  58.0  1.0  3.0    150.0  219.0  0.0     1.0    118.0   1.0      0.0   \n",
       "187  58.0  1.0  3.0    150.0  219.0  0.0     1.0    118.0   1.0      0.0   \n",
       "\n",
       "    slope   ca thal target      region  \n",
       "101   NaN  NaN  NaN      0     Hungary  \n",
       "102   NaN  NaN  NaN      0     Hungary  \n",
       "139   NaN  NaN  NaN      1  Long Beach  \n",
       "187   NaN  NaN  NaN      1  Long Beach  "
      ]
     },
     "execution_count": 344,
     "metadata": {},
     "output_type": "execute_result"
    }
   ],
   "source": [
    "df_conc.loc[df_conc.duplicated(keep=False), :]"
   ]
  },
  {
   "cell_type": "code",
   "execution_count": 345,
   "id": "10383e81",
   "metadata": {},
   "outputs": [
    {
     "data": {
      "text/plain": [
       "0"
      ]
     },
     "execution_count": 345,
     "metadata": {},
     "output_type": "execute_result"
    }
   ],
   "source": [
    "#Erase duplicates\n",
    "df_conc.drop_duplicates(inplace=True)\n",
    "df_conc.duplicated().sum()"
   ]
  },
  {
   "cell_type": "markdown",
   "id": "0d34e691",
   "metadata": {},
   "source": [
    "###  Data exploration"
   ]
  },
  {
   "cell_type": "code",
   "execution_count": 346,
   "id": "79b4a971",
   "metadata": {},
   "outputs": [
    {
     "data": {
      "text/plain": [
       "1.0    725\n",
       "0.0    193\n",
       "Name: sex, dtype: int64"
      ]
     },
     "execution_count": 346,
     "metadata": {},
     "output_type": "execute_result"
    }
   ],
   "source": [
    "#Categorical variables------------------------------------------------------------------------------------------\n",
    "#Sex\n",
    "\n",
    "df_conc.sex.value_counts(dropna=False)"
   ]
  },
  {
   "cell_type": "code",
   "execution_count": 347,
   "id": "cd02342d",
   "metadata": {},
   "outputs": [
    {
     "data": {
      "text/plain": [
       "<AxesSubplot:title={'center':'Histogram'}, xlabel='Gender', ylabel='Total'>"
      ]
     },
     "execution_count": 347,
     "metadata": {},
     "output_type": "execute_result"
    },
    {
     "data": {
      "image/png": "[encoded data removed]",
      "text/plain": [
       "<Figure size 1152x576 with 2 Axes>"
      ]
     },
     "metadata": {
      "needs_background": "light"
     },
     "output_type": "display_data"
    }
   ],
   "source": [
    "#Categorical variables------------------------------------------------------------------------------------------\n",
    "#Sex\n",
    "\n",
    "# --- Labels, Order ---\n",
    "labels=['Male', 'Female']\n",
    "order=df_conc['sex'].value_counts().index\n",
    "\n",
    "# --- Size for Both Figures ---\n",
    "plt.figure(figsize=(16, 8))\n",
    "plt.suptitle('Sex (Gender) Distribution')\n",
    "\n",
    "# --- Pie Chart ---\n",
    "plt.subplot(1, 2, 1)\n",
    "plt.title('Pie Chart')\n",
    "plt.pie(df_conc['sex'].value_counts(), labels=labels, pctdistance=0.7,\n",
    "        autopct='%.2f%%', wedgeprops=dict(alpha=0.8),\n",
    "        textprops={'fontsize':12})\n",
    "centre=plt.Circle((0, 0), 0.45, fc='white')\n",
    "plt.gcf().gca().add_artist(centre)\n",
    "\n",
    "# --- Histogram ---\n",
    "countplt = plt.subplot(1, 2, 2)\n",
    "plt.title('Histogram')\n",
    "ax = sns.countplot(x='sex', data=df_conc, order=order, alpha=0.85)\n",
    "for rect in ax.patches:\n",
    "    ax.text (rect.get_x()+rect.get_width()/2, \n",
    "             rect.get_height()+4.25,rect.get_height(), \n",
    "             horizontalalignment='center', fontsize=10, \n",
    "             bbox=dict(facecolor='none', \n",
    "                       linewidth=0.25, boxstyle='round'))\n",
    "\n",
    "plt.xlabel('Gender', fontweight='bold')\n",
    "plt.ylabel('Total', fontweight='bold')\n",
    "plt.xticks([0, 1], labels)\n",
    "plt.grid(axis='y', alpha=0.4)\n",
    "countplt\n"
   ]
  },
  {
   "cell_type": "code",
   "execution_count": 348,
   "id": "711ff9c0",
   "metadata": {},
   "outputs": [
    {
     "data": {
      "text/plain": [
       "4.0    496\n",
       "3.0    203\n",
       "2.0    173\n",
       "1.0     46\n",
       "Name: cp, dtype: int64"
      ]
     },
     "execution_count": 348,
     "metadata": {},
     "output_type": "execute_result"
    }
   ],
   "source": [
    "#Chest pain\n",
    "df_conc.cp.value_counts(dropna=False)"
   ]
  },
  {
   "cell_type": "code",
   "execution_count": 349,
   "id": "998b4412",
   "metadata": {},
   "outputs": [
    {
     "data": {
      "text/plain": [
       "<AxesSubplot:title={'center':'Histogram'}, xlabel='Chest pain', ylabel='Total'>"
      ]
     },
     "execution_count": 349,
     "metadata": {},
     "output_type": "execute_result"
    },
    {
     "data": {
      "image/png": "[encoded data removed]",
      "text/plain": [
       "<Figure size 1152x576 with 2 Axes>"
      ]
     },
     "metadata": {
      "needs_background": "light"
     },
     "output_type": "display_data"
    }
   ],
   "source": [
    "#Chest pain\n",
    "\n",
    "# --- Labels, Order ---\n",
    "labels=['Type 4', 'Type 3', 'Type 2', 'Type 1']\n",
    "order=df_conc['cp'].value_counts().index\n",
    "\n",
    "# --- Size for Both Figures ---\n",
    "plt.figure(figsize=(16, 8))\n",
    "plt.suptitle('Chest Pain Type Distribution: Type 4: Asymptomatic, Type 3:Non-anginal pain, Type 2:Atypical angina, Type 1:Typical angina')\n",
    "\n",
    "# --- Pie Chart ---\n",
    "plt.subplot(1, 2, 1)\n",
    "plt.title('Pie Chart')\n",
    "plt.pie(df_conc['cp'].value_counts(), labels=labels, pctdistance=0.7,\n",
    "        autopct='%.2f%%', wedgeprops=dict(alpha=0.8),\n",
    "        textprops={'fontsize':12})\n",
    "centre=plt.Circle((0, 0), 0.45, fc='white')\n",
    "plt.gcf().gca().add_artist(centre)\n",
    "\n",
    "# --- Histogram ---\n",
    "countplt = plt.subplot(1, 2, 2)\n",
    "plt.title('Histogram')\n",
    "ax = sns.countplot(x='cp', data=df_conc, order=order, alpha=0.85)\n",
    "for rect in ax.patches:\n",
    "    ax.text (rect.get_x()+rect.get_width()/2, \n",
    "             rect.get_height()+4.25,rect.get_height(), \n",
    "             horizontalalignment='center', fontsize=10, \n",
    "             bbox=dict(facecolor='none', \n",
    "                       linewidth=0.25, boxstyle='round'))\n",
    "\n",
    "plt.xlabel('Chest pain')\n",
    "plt.ylabel('Total')\n",
    "plt.xticks([0, 1,2,3], labels)\n",
    "plt.grid(axis='y', alpha=0.4)\n",
    "countplt\n"
   ]
  },
  {
   "cell_type": "code",
   "execution_count": 350,
   "id": "d358b0b6",
   "metadata": {},
   "outputs": [
    {
     "data": {
      "text/plain": [
       "0.0    690\n",
       "1.0    138\n",
       "NaN     90\n",
       "Name: fbs, dtype: int64"
      ]
     },
     "execution_count": 350,
     "metadata": {},
     "output_type": "execute_result"
    }
   ],
   "source": [
    "#Fasting blood sugar\n",
    "df_conc.fbs.value_counts(dropna=False)"
   ]
  },
  {
   "cell_type": "code",
   "execution_count": 351,
   "id": "2c2dbaae",
   "metadata": {},
   "outputs": [
    {
     "data": {
      "text/plain": [
       "<AxesSubplot:title={'center':'Histogram'}, xlabel='Fasting Blood Sugar', ylabel='Total'>"
      ]
     },
     "execution_count": 351,
     "metadata": {},
     "output_type": "execute_result"
    },
    {
     "data": {
      "image/png": "[encoded data removed]",
      "text/plain": [
       "<Figure size 1152x576 with 2 Axes>"
      ]
     },
     "metadata": {
      "needs_background": "light"
     },
     "output_type": "display_data"
    }
   ],
   "source": [
    "# --- Labels, Order ---\n",
    "labels=['< 120 mg/dl', '> 120 mg/dl']\n",
    "order=df_conc['fbs'].value_counts().index\n",
    "\n",
    "# --- Size for Both Figures ---\n",
    "plt.figure(figsize=(16, 8))\n",
    "plt.suptitle('Fasting Blood Sugar Distribution')\n",
    "\n",
    "# --- Pie Chart ---\n",
    "plt.subplot(1, 2, 1)\n",
    "plt.title('Pie Chart')\n",
    "plt.pie(df_conc['fbs'].value_counts(), labels=labels, pctdistance=0.7,\n",
    "        autopct='%.2f%%', wedgeprops=dict(alpha=0.8),\n",
    "        textprops={'fontsize':12})\n",
    "centre=plt.Circle((0, 0), 0.45, fc='white')\n",
    "plt.gcf().gca().add_artist(centre)\n",
    "\n",
    "# --- Histogram ---\n",
    "countplt = plt.subplot(1, 2, 2)\n",
    "plt.title('Histogram')\n",
    "ax = sns.countplot(x='fbs', data=df_conc, order=order, alpha=0.85)\n",
    "for rect in ax.patches:\n",
    "    ax.text (rect.get_x()+rect.get_width()/2, \n",
    "             rect.get_height()+4.25,rect.get_height(), \n",
    "             horizontalalignment='center', fontsize=10, \n",
    "             bbox=dict(facecolor='none', \n",
    "                       linewidth=0.25, boxstyle='round'))\n",
    "\n",
    "plt.xlabel('Fasting Blood Sugar')\n",
    "plt.ylabel('Total')\n",
    "plt.xticks([0, 1], labels)\n",
    "plt.grid(axis='y', alpha=0.4)\n",
    "countplt"
   ]
  },
  {
   "cell_type": "code",
   "execution_count": 352,
   "id": "54e5bf58",
   "metadata": {},
   "outputs": [
    {
     "data": {
      "text/plain": [
       "0.0    550\n",
       "2.0    188\n",
       "1.0    178\n",
       "NaN      2\n",
       "Name: restecg, dtype: int64"
      ]
     },
     "execution_count": 352,
     "metadata": {},
     "output_type": "execute_result"
    }
   ],
   "source": [
    "#Resting Electrocardiographic results\n",
    "df_conc.restecg.value_counts(dropna=False)"
   ]
  },
  {
   "cell_type": "code",
   "execution_count": 353,
   "id": "42fcd5f5",
   "metadata": {},
   "outputs": [
    {
     "data": {
      "text/plain": [
       "<AxesSubplot:title={'center':'Histogram'}, xlabel='Resting ECG', ylabel='Total'>"
      ]
     },
     "execution_count": 353,
     "metadata": {},
     "output_type": "execute_result"
    },
    {
     "data": {
      "image/png": "[encoded data removed]",
      "text/plain": [
       "<Figure size 1152x576 with 2 Axes>"
      ]
     },
     "metadata": {
      "needs_background": "light"
     },
     "output_type": "display_data"
    }
   ],
   "source": [
    "# --- Labels, Order ---\n",
    "\n",
    "\n",
    "labels=['0', '2', '1']\n",
    "order=df_conc['restecg'].value_counts().index\n",
    "\n",
    "# --- Size for Both Figures ---\n",
    "plt.figure(figsize=(16, 8))\n",
    "plt.suptitle('Resting Electrocardiographic Distribution: 0=normal, 1=having ST-T wave abnormality, 2= showing probable or definite left ventricular hypertrophy  by Estes')\n",
    "\n",
    "# --- Pie Chart ---\n",
    "plt.subplot(1,2,1)\n",
    "plt.title('Pie Chart', fontweight='bold', fontsize=14, fontfamily='sans-serif')\n",
    "plt.pie(df_conc['restecg'].value_counts(), labels=labels, \n",
    "        wedgeprops=dict(alpha=0.8), autopct='%.2f%%',\n",
    "        pctdistance=0.7, textprops={'fontsize':12})\n",
    "centre=plt.Circle((0, 0), 0.45, fc='white')\n",
    "plt.gcf().gca().add_artist(centre)\n",
    "\n",
    "# --- Histogram ---\n",
    "countplt = plt.subplot(1, 2, 2)\n",
    "plt.title('Histogram', fontweight='bold', fontsize=14, fontfamily='sans-serif')\n",
    "ax = sns.countplot(x='restecg', data=df_conc, order=order, alpha=0.85)\n",
    "for rect in ax.patches:\n",
    "    ax.text (rect.get_x()+rect.get_width()/2, \n",
    "             rect.get_height()+4.25,rect.get_height(), \n",
    "             horizontalalignment='center', fontsize=10,\n",
    "             bbox=dict(facecolor='none', linewidth=0.25,\n",
    "                       boxstyle='round'))\n",
    "\n",
    "plt.xlabel('Resting ECG')\n",
    "plt.ylabel('Total')\n",
    "plt.grid(axis='y', alpha=0.4)\n",
    "countplt\n"
   ]
  },
  {
   "cell_type": "code",
   "execution_count": 354,
   "id": "8694a6ce",
   "metadata": {},
   "outputs": [
    {
     "data": {
      "text/plain": [
       "0.0    527\n",
       "1.0    336\n",
       "NaN     55\n",
       "Name: exang, dtype: int64"
      ]
     },
     "execution_count": 354,
     "metadata": {},
     "output_type": "execute_result"
    }
   ],
   "source": [
    "#Exercise induced angina\n",
    "df_conc.exang.value_counts(dropna=False)"
   ]
  },
  {
   "cell_type": "code",
   "execution_count": null,
   "id": "79473d4d",
   "metadata": {},
   "outputs": [],
   "source": []
  },
  {
   "cell_type": "code",
   "execution_count": 355,
   "id": "f896beb2",
   "metadata": {},
   "outputs": [
    {
     "data": {
      "text/plain": [
       "2.0    345\n",
       "NaN    307\n",
       "1.0    203\n",
       "3.0     63\n",
       "Name: slope, dtype: int64"
      ]
     },
     "execution_count": 355,
     "metadata": {},
     "output_type": "execute_result"
    }
   ],
   "source": [
    "#Slope\n",
    "df_conc.slope.value_counts(dropna=False)"
   ]
  },
  {
   "cell_type": "code",
   "execution_count": null,
   "id": "41f1850e",
   "metadata": {},
   "outputs": [],
   "source": []
  },
  {
   "cell_type": "code",
   "execution_count": 356,
   "id": "cc18a883",
   "metadata": {},
   "outputs": [
    {
     "data": {
      "text/plain": [
       "NaN    609\n",
       "0.0    181\n",
       "1.0     67\n",
       "2.0     41\n",
       "3.0     20\n",
       "Name: ca, dtype: int64"
      ]
     },
     "execution_count": 356,
     "metadata": {},
     "output_type": "execute_result"
    }
   ],
   "source": [
    "#Number of major vessels\n",
    "df_conc.ca.value_counts(dropna=False)"
   ]
  },
  {
   "cell_type": "code",
   "execution_count": null,
   "id": "069538a6",
   "metadata": {},
   "outputs": [],
   "source": []
  },
  {
   "cell_type": "code",
   "execution_count": 357,
   "id": "db3cfd14",
   "metadata": {},
   "outputs": [
    {
     "data": {
      "text/plain": [
       "NaN    484\n",
       "3.0    196\n",
       "7.0    192\n",
       "6.0     46\n",
       "Name: thal, dtype: int64"
      ]
     },
     "execution_count": 357,
     "metadata": {},
     "output_type": "execute_result"
    }
   ],
   "source": [
    "#Thal\n",
    "df_conc.thal.value_counts(dropna=False)"
   ]
  },
  {
   "cell_type": "code",
   "execution_count": null,
   "id": "5ff06598",
   "metadata": {},
   "outputs": [],
   "source": []
  },
  {
   "cell_type": "code",
   "execution_count": 358,
   "id": "a53baf61",
   "metadata": {},
   "outputs": [
    {
     "data": {
      "text/plain": [
       "1    508\n",
       "0    410\n",
       "Name: target, dtype: int64"
      ]
     },
     "execution_count": 358,
     "metadata": {},
     "output_type": "execute_result"
    }
   ],
   "source": [
    "#Diagnosis of heart disease\n",
    "df_conc.target.value_counts(dropna=False)"
   ]
  },
  {
   "cell_type": "code",
   "execution_count": 359,
   "id": "8a8f851f",
   "metadata": {},
   "outputs": [
    {
     "data": {
      "text/plain": [
       "<AxesSubplot:title={'center':'Histogram'}, xlabel='Heart Disease', ylabel='Total'>"
      ]
     },
     "execution_count": 359,
     "metadata": {},
     "output_type": "execute_result"
    },
    {
     "data": {
      "image/png": "[encoded data removed]",
      "text/plain": [
       "<Figure size 1152x576 with 2 Axes>"
      ]
     },
     "metadata": {
      "needs_background": "light"
     },
     "output_type": "display_data"
    }
   ],
   "source": [
    "# --- Labels, Order ---\n",
    "labels=['Presence', 'No Presence']\n",
    "order=df_conc['target'].value_counts().index\n",
    "\n",
    "# --- Size for Both Figures ---\n",
    "plt.figure(figsize=(16, 8))\n",
    "plt.suptitle('Heart Disease in the Patient')\n",
    "\n",
    "# --- Pie Chart ---\n",
    "plt.subplot(1, 2, 1)\n",
    "plt.title('Pie Chart')\n",
    "plt.pie(df_conc['target'].value_counts(), labels=labels, pctdistance=0.7,\n",
    "        autopct='%.2f%%', wedgeprops=dict(alpha=0.8),\n",
    "        textprops={'fontsize':12})\n",
    "centre=plt.Circle((0, 0), 0.45, fc='white')\n",
    "plt.gcf().gca().add_artist(centre)\n",
    "\n",
    "# --- Histogram ---\n",
    "countplt = plt.subplot(1, 2, 2)\n",
    "plt.title('Histogram')\n",
    "ax = sns.countplot(x='target', data=df_conc, order=order, alpha=0.85)\n",
    "for rect in ax.patches:\n",
    "    ax.text (rect.get_x()+rect.get_width()/2, \n",
    "             rect.get_height()+4.25,rect.get_height(), \n",
    "             horizontalalignment='center', fontsize=10, \n",
    "             bbox=dict(facecolor='none', \n",
    "                       linewidth=0.25, boxstyle='round'))\n",
    "\n",
    "plt.xlabel('Heart Disease')\n",
    "plt.ylabel('Total')\n",
    "plt.xticks([0, 1], labels)\n",
    "plt.grid(axis='y', alpha=0.4)\n",
    "countplt"
   ]
  },
  {
   "cell_type": "code",
   "execution_count": 360,
   "id": "e5a8a529",
   "metadata": {},
   "outputs": [
    {
     "data": {
      "text/html": [
       "<div>\n",
       "<style scoped>\n",
       "    .dataframe tbody tr th:only-of-type {\n",
       "        vertical-align: middle;\n",
       "    }\n",
       "\n",
       "    .dataframe tbody tr th {\n",
       "        vertical-align: top;\n",
       "    }\n",
       "\n",
       "    .dataframe thead th {\n",
       "        text-align: right;\n",
       "    }\n",
       "</style>\n",
       "<table border=\"1\" class=\"dataframe\">\n",
       "  <thead>\n",
       "    <tr style=\"text-align: right;\">\n",
       "      <th></th>\n",
       "      <th>age</th>\n",
       "      <th>thalach</th>\n",
       "      <th>oldpeak</th>\n",
       "    </tr>\n",
       "  </thead>\n",
       "  <tbody>\n",
       "    <tr>\n",
       "      <th>count</th>\n",
       "      <td>918.000000</td>\n",
       "      <td>863.000000</td>\n",
       "      <td>856.000000</td>\n",
       "    </tr>\n",
       "    <tr>\n",
       "      <th>mean</th>\n",
       "      <td>53.510893</td>\n",
       "      <td>137.542294</td>\n",
       "      <td>0.880841</td>\n",
       "    </tr>\n",
       "    <tr>\n",
       "      <th>std</th>\n",
       "      <td>9.432617</td>\n",
       "      <td>25.936524</td>\n",
       "      <td>1.091673</td>\n",
       "    </tr>\n",
       "    <tr>\n",
       "      <th>min</th>\n",
       "      <td>28.000000</td>\n",
       "      <td>60.000000</td>\n",
       "      <td>-2.600000</td>\n",
       "    </tr>\n",
       "    <tr>\n",
       "      <th>25%</th>\n",
       "      <td>47.000000</td>\n",
       "      <td>120.000000</td>\n",
       "      <td>0.000000</td>\n",
       "    </tr>\n",
       "    <tr>\n",
       "      <th>50%</th>\n",
       "      <td>54.000000</td>\n",
       "      <td>140.000000</td>\n",
       "      <td>0.500000</td>\n",
       "    </tr>\n",
       "    <tr>\n",
       "      <th>75%</th>\n",
       "      <td>60.000000</td>\n",
       "      <td>157.000000</td>\n",
       "      <td>1.500000</td>\n",
       "    </tr>\n",
       "    <tr>\n",
       "      <th>max</th>\n",
       "      <td>77.000000</td>\n",
       "      <td>202.000000</td>\n",
       "      <td>6.200000</td>\n",
       "    </tr>\n",
       "  </tbody>\n",
       "</table>\n",
       "</div>"
      ],
      "text/plain": [
       "              age     thalach     oldpeak\n",
       "count  918.000000  863.000000  856.000000\n",
       "mean    53.510893  137.542294    0.880841\n",
       "std      9.432617   25.936524    1.091673\n",
       "min     28.000000   60.000000   -2.600000\n",
       "25%     47.000000  120.000000    0.000000\n",
       "50%     54.000000  140.000000    0.500000\n",
       "75%     60.000000  157.000000    1.500000\n",
       "max     77.000000  202.000000    6.200000"
      ]
     },
     "execution_count": 360,
     "metadata": {},
     "output_type": "execute_result"
    }
   ],
   "source": [
    "#Summary descriptive statistics of numerical variables\n",
    "df_conc.describe(include=[np.number])"
   ]
  },
  {
   "cell_type": "markdown",
   "id": "3f5d8d8e",
   "metadata": {},
   "source": [
    "###  One hot encoding\n",
    "Since some of the categorical data (cp, restecg, slope, ca, and thal,region) has values larger than 1 and this may affect the model, will use one hot encoding techinique to transform them into binary categorical variables (1 and 0) by adding columns."
   ]
  },
  {
   "cell_type": "code",
   "execution_count": 361,
   "id": "db6dda93",
   "metadata": {},
   "outputs": [
    {
     "name": "stderr",
     "output_type": "stream",
     "text": [
      "C:\\Users\\Yasmin Lozano\\anaconda3\\lib\\site-packages\\pandas\\core\\algorithms.py:798: FutureWarning: In a future version, the Index constructor will not infer numeric dtypes when passed object-dtype sequences (matching Series behavior)\n",
      "  uniques = Index(uniques)\n"
     ]
    }
   ],
   "source": [
    "# Creating Dummy Variables for cp, restecg, slope, ca, thal and target\n",
    "cp = pd.get_dummies(df_conc['cp'], prefix='cp')\n",
    "restecg = pd.get_dummies(df_conc['restecg'], prefix='restecg')\n",
    "slope = pd.get_dummies(df_conc['slope'], prefix='slope')\n",
    "ca = pd.get_dummies(df_conc['ca'], prefix='ca')\n",
    "thal = pd.get_dummies(df_conc['thal'], prefix='thal')\n",
    "region = pd.get_dummies(df_conc['region'], prefix='region')\n",
    "\n",
    "# --- Merge Dummy Variables to Main Data Frame ---\n",
    "frames = [df_conc, cp, restecg, slope, ca, thal,region]\n",
    "df_conc = pd.concat(frames, axis = 1)"
   ]
  },
  {
   "cell_type": "code",
   "execution_count": 362,
   "id": "a3eed8b1",
   "metadata": {},
   "outputs": [
    {
     "data": {
      "text/html": [
       "<div>\n",
       "<style scoped>\n",
       "    .dataframe tbody tr th:only-of-type {\n",
       "        vertical-align: middle;\n",
       "    }\n",
       "\n",
       "    .dataframe tbody tr th {\n",
       "        vertical-align: top;\n",
       "    }\n",
       "\n",
       "    .dataframe thead th {\n",
       "        text-align: right;\n",
       "    }\n",
       "</style>\n",
       "<table border=\"1\" class=\"dataframe\">\n",
       "  <thead>\n",
       "    <tr style=\"text-align: right;\">\n",
       "      <th></th>\n",
       "      <th>age</th>\n",
       "      <th>sex</th>\n",
       "      <th>cp</th>\n",
       "      <th>trestbps</th>\n",
       "      <th>chol</th>\n",
       "      <th>fbs</th>\n",
       "      <th>restecg</th>\n",
       "      <th>thalach</th>\n",
       "      <th>exang</th>\n",
       "      <th>oldpeak</th>\n",
       "      <th>slope</th>\n",
       "      <th>ca</th>\n",
       "      <th>thal</th>\n",
       "      <th>target</th>\n",
       "      <th>region</th>\n",
       "      <th>cp_1.0</th>\n",
       "      <th>cp_2.0</th>\n",
       "      <th>cp_3.0</th>\n",
       "      <th>cp_4.0</th>\n",
       "      <th>restecg_0.0</th>\n",
       "      <th>restecg_1.0</th>\n",
       "      <th>restecg_2.0</th>\n",
       "      <th>slope_1.0</th>\n",
       "      <th>slope_2.0</th>\n",
       "      <th>slope_3.0</th>\n",
       "      <th>ca_0.0</th>\n",
       "      <th>ca_1.0</th>\n",
       "      <th>ca_2.0</th>\n",
       "      <th>ca_3.0</th>\n",
       "      <th>thal_3.0</th>\n",
       "      <th>thal_6.0</th>\n",
       "      <th>thal_7.0</th>\n",
       "      <th>region_Cleveland</th>\n",
       "      <th>region_Hungary</th>\n",
       "      <th>region_Long Beach</th>\n",
       "      <th>region_Switzerland</th>\n",
       "    </tr>\n",
       "  </thead>\n",
       "  <tbody>\n",
       "    <tr>\n",
       "      <th>0</th>\n",
       "      <td>63.0</td>\n",
       "      <td>1.0</td>\n",
       "      <td>1.0</td>\n",
       "      <td>145.0</td>\n",
       "      <td>233.0</td>\n",
       "      <td>1.0</td>\n",
       "      <td>2.0</td>\n",
       "      <td>150.0</td>\n",
       "      <td>0.0</td>\n",
       "      <td>2.3</td>\n",
       "      <td>3.0</td>\n",
       "      <td>0.0</td>\n",
       "      <td>6.0</td>\n",
       "      <td>0</td>\n",
       "      <td>Cleveland</td>\n",
       "      <td>1</td>\n",
       "      <td>0</td>\n",
       "      <td>0</td>\n",
       "      <td>0</td>\n",
       "      <td>0</td>\n",
       "      <td>0</td>\n",
       "      <td>1</td>\n",
       "      <td>0</td>\n",
       "      <td>0</td>\n",
       "      <td>1</td>\n",
       "      <td>1</td>\n",
       "      <td>0</td>\n",
       "      <td>0</td>\n",
       "      <td>0</td>\n",
       "      <td>0</td>\n",
       "      <td>1</td>\n",
       "      <td>0</td>\n",
       "      <td>1</td>\n",
       "      <td>0</td>\n",
       "      <td>0</td>\n",
       "      <td>0</td>\n",
       "    </tr>\n",
       "    <tr>\n",
       "      <th>1</th>\n",
       "      <td>67.0</td>\n",
       "      <td>1.0</td>\n",
       "      <td>4.0</td>\n",
       "      <td>160.0</td>\n",
       "      <td>286.0</td>\n",
       "      <td>0.0</td>\n",
       "      <td>2.0</td>\n",
       "      <td>108.0</td>\n",
       "      <td>1.0</td>\n",
       "      <td>1.5</td>\n",
       "      <td>2.0</td>\n",
       "      <td>3.0</td>\n",
       "      <td>3.0</td>\n",
       "      <td>1</td>\n",
       "      <td>Cleveland</td>\n",
       "      <td>0</td>\n",
       "      <td>0</td>\n",
       "      <td>0</td>\n",
       "      <td>1</td>\n",
       "      <td>0</td>\n",
       "      <td>0</td>\n",
       "      <td>1</td>\n",
       "      <td>0</td>\n",
       "      <td>1</td>\n",
       "      <td>0</td>\n",
       "      <td>0</td>\n",
       "      <td>0</td>\n",
       "      <td>0</td>\n",
       "      <td>1</td>\n",
       "      <td>1</td>\n",
       "      <td>0</td>\n",
       "      <td>0</td>\n",
       "      <td>1</td>\n",
       "      <td>0</td>\n",
       "      <td>0</td>\n",
       "      <td>0</td>\n",
       "    </tr>\n",
       "    <tr>\n",
       "      <th>2</th>\n",
       "      <td>67.0</td>\n",
       "      <td>1.0</td>\n",
       "      <td>4.0</td>\n",
       "      <td>120.0</td>\n",
       "      <td>229.0</td>\n",
       "      <td>0.0</td>\n",
       "      <td>2.0</td>\n",
       "      <td>129.0</td>\n",
       "      <td>1.0</td>\n",
       "      <td>2.6</td>\n",
       "      <td>2.0</td>\n",
       "      <td>2.0</td>\n",
       "      <td>7.0</td>\n",
       "      <td>1</td>\n",
       "      <td>Cleveland</td>\n",
       "      <td>0</td>\n",
       "      <td>0</td>\n",
       "      <td>0</td>\n",
       "      <td>1</td>\n",
       "      <td>0</td>\n",
       "      <td>0</td>\n",
       "      <td>1</td>\n",
       "      <td>0</td>\n",
       "      <td>1</td>\n",
       "      <td>0</td>\n",
       "      <td>0</td>\n",
       "      <td>0</td>\n",
       "      <td>1</td>\n",
       "      <td>0</td>\n",
       "      <td>0</td>\n",
       "      <td>0</td>\n",
       "      <td>1</td>\n",
       "      <td>1</td>\n",
       "      <td>0</td>\n",
       "      <td>0</td>\n",
       "      <td>0</td>\n",
       "    </tr>\n",
       "    <tr>\n",
       "      <th>3</th>\n",
       "      <td>37.0</td>\n",
       "      <td>1.0</td>\n",
       "      <td>3.0</td>\n",
       "      <td>130.0</td>\n",
       "      <td>250.0</td>\n",
       "      <td>0.0</td>\n",
       "      <td>0.0</td>\n",
       "      <td>187.0</td>\n",
       "      <td>0.0</td>\n",
       "      <td>3.5</td>\n",
       "      <td>3.0</td>\n",
       "      <td>0.0</td>\n",
       "      <td>3.0</td>\n",
       "      <td>0</td>\n",
       "      <td>Cleveland</td>\n",
       "      <td>0</td>\n",
       "      <td>0</td>\n",
       "      <td>1</td>\n",
       "      <td>0</td>\n",
       "      <td>1</td>\n",
       "      <td>0</td>\n",
       "      <td>0</td>\n",
       "      <td>0</td>\n",
       "      <td>0</td>\n",
       "      <td>1</td>\n",
       "      <td>1</td>\n",
       "      <td>0</td>\n",
       "      <td>0</td>\n",
       "      <td>0</td>\n",
       "      <td>1</td>\n",
       "      <td>0</td>\n",
       "      <td>0</td>\n",
       "      <td>1</td>\n",
       "      <td>0</td>\n",
       "      <td>0</td>\n",
       "      <td>0</td>\n",
       "    </tr>\n",
       "    <tr>\n",
       "      <th>4</th>\n",
       "      <td>41.0</td>\n",
       "      <td>0.0</td>\n",
       "      <td>2.0</td>\n",
       "      <td>130.0</td>\n",
       "      <td>204.0</td>\n",
       "      <td>0.0</td>\n",
       "      <td>2.0</td>\n",
       "      <td>172.0</td>\n",
       "      <td>0.0</td>\n",
       "      <td>1.4</td>\n",
       "      <td>1.0</td>\n",
       "      <td>0.0</td>\n",
       "      <td>3.0</td>\n",
       "      <td>0</td>\n",
       "      <td>Cleveland</td>\n",
       "      <td>0</td>\n",
       "      <td>1</td>\n",
       "      <td>0</td>\n",
       "      <td>0</td>\n",
       "      <td>0</td>\n",
       "      <td>0</td>\n",
       "      <td>1</td>\n",
       "      <td>1</td>\n",
       "      <td>0</td>\n",
       "      <td>0</td>\n",
       "      <td>1</td>\n",
       "      <td>0</td>\n",
       "      <td>0</td>\n",
       "      <td>0</td>\n",
       "      <td>1</td>\n",
       "      <td>0</td>\n",
       "      <td>0</td>\n",
       "      <td>1</td>\n",
       "      <td>0</td>\n",
       "      <td>0</td>\n",
       "      <td>0</td>\n",
       "    </tr>\n",
       "  </tbody>\n",
       "</table>\n",
       "</div>"
      ],
      "text/plain": [
       "    age  sex   cp trestbps   chol  fbs restecg  thalach exang  oldpeak slope  \\\n",
       "0  63.0  1.0  1.0    145.0  233.0  1.0     2.0    150.0   0.0      2.3   3.0   \n",
       "1  67.0  1.0  4.0    160.0  286.0  0.0     2.0    108.0   1.0      1.5   2.0   \n",
       "2  67.0  1.0  4.0    120.0  229.0  0.0     2.0    129.0   1.0      2.6   2.0   \n",
       "3  37.0  1.0  3.0    130.0  250.0  0.0     0.0    187.0   0.0      3.5   3.0   \n",
       "4  41.0  0.0  2.0    130.0  204.0  0.0     2.0    172.0   0.0      1.4   1.0   \n",
       "\n",
       "    ca thal target     region  cp_1.0  cp_2.0  cp_3.0  cp_4.0  restecg_0.0  \\\n",
       "0  0.0  6.0      0  Cleveland       1       0       0       0            0   \n",
       "1  3.0  3.0      1  Cleveland       0       0       0       1            0   \n",
       "2  2.0  7.0      1  Cleveland       0       0       0       1            0   \n",
       "3  0.0  3.0      0  Cleveland       0       0       1       0            1   \n",
       "4  0.0  3.0      0  Cleveland       0       1       0       0            0   \n",
       "\n",
       "   restecg_1.0  restecg_2.0  slope_1.0  slope_2.0  slope_3.0  ca_0.0  ca_1.0  \\\n",
       "0            0            1          0          0          1       1       0   \n",
       "1            0            1          0          1          0       0       0   \n",
       "2            0            1          0          1          0       0       0   \n",
       "3            0            0          0          0          1       1       0   \n",
       "4            0            1          1          0          0       1       0   \n",
       "\n",
       "   ca_2.0  ca_3.0  thal_3.0  thal_6.0  thal_7.0  region_Cleveland  \\\n",
       "0       0       0         0         1         0                 1   \n",
       "1       0       1         1         0         0                 1   \n",
       "2       1       0         0         0         1                 1   \n",
       "3       0       0         1         0         0                 1   \n",
       "4       0       0         1         0         0                 1   \n",
       "\n",
       "   region_Hungary  region_Long Beach  region_Switzerland  \n",
       "0               0                  0                   0  \n",
       "1               0                  0                   0  \n",
       "2               0                  0                   0  \n",
       "3               0                  0                   0  \n",
       "4               0                  0                   0  "
      ]
     },
     "execution_count": 362,
     "metadata": {},
     "output_type": "execute_result"
    }
   ],
   "source": [
    "df_conc.head()"
   ]
  },
  {
   "cell_type": "code",
   "execution_count": 363,
   "id": "107de01b",
   "metadata": {},
   "outputs": [
    {
     "data": {
      "text/html": [
       "<div>\n",
       "<style scoped>\n",
       "    .dataframe tbody tr th:only-of-type {\n",
       "        vertical-align: middle;\n",
       "    }\n",
       "\n",
       "    .dataframe tbody tr th {\n",
       "        vertical-align: top;\n",
       "    }\n",
       "\n",
       "    .dataframe thead th {\n",
       "        text-align: right;\n",
       "    }\n",
       "</style>\n",
       "<table border=\"1\" class=\"dataframe\">\n",
       "  <thead>\n",
       "    <tr style=\"text-align: right;\">\n",
       "      <th></th>\n",
       "      <th>age</th>\n",
       "      <th>sex</th>\n",
       "      <th>trestbps</th>\n",
       "      <th>chol</th>\n",
       "      <th>fbs</th>\n",
       "      <th>thalach</th>\n",
       "      <th>exang</th>\n",
       "      <th>oldpeak</th>\n",
       "      <th>target</th>\n",
       "      <th>cp_1.0</th>\n",
       "      <th>cp_2.0</th>\n",
       "      <th>cp_3.0</th>\n",
       "      <th>cp_4.0</th>\n",
       "      <th>restecg_0.0</th>\n",
       "      <th>restecg_1.0</th>\n",
       "      <th>restecg_2.0</th>\n",
       "      <th>slope_1.0</th>\n",
       "      <th>slope_2.0</th>\n",
       "      <th>slope_3.0</th>\n",
       "      <th>ca_0.0</th>\n",
       "      <th>ca_1.0</th>\n",
       "      <th>ca_2.0</th>\n",
       "      <th>ca_3.0</th>\n",
       "      <th>thal_3.0</th>\n",
       "      <th>thal_6.0</th>\n",
       "      <th>thal_7.0</th>\n",
       "      <th>region_Cleveland</th>\n",
       "      <th>region_Hungary</th>\n",
       "      <th>region_Long Beach</th>\n",
       "      <th>region_Switzerland</th>\n",
       "    </tr>\n",
       "  </thead>\n",
       "  <tbody>\n",
       "    <tr>\n",
       "      <th>0</th>\n",
       "      <td>63.0</td>\n",
       "      <td>1.0</td>\n",
       "      <td>145.0</td>\n",
       "      <td>233.0</td>\n",
       "      <td>1.0</td>\n",
       "      <td>150.0</td>\n",
       "      <td>0.0</td>\n",
       "      <td>2.3</td>\n",
       "      <td>0</td>\n",
       "      <td>1</td>\n",
       "      <td>0</td>\n",
       "      <td>0</td>\n",
       "      <td>0</td>\n",
       "      <td>0</td>\n",
       "      <td>0</td>\n",
       "      <td>1</td>\n",
       "      <td>0</td>\n",
       "      <td>0</td>\n",
       "      <td>1</td>\n",
       "      <td>1</td>\n",
       "      <td>0</td>\n",
       "      <td>0</td>\n",
       "      <td>0</td>\n",
       "      <td>0</td>\n",
       "      <td>1</td>\n",
       "      <td>0</td>\n",
       "      <td>1</td>\n",
       "      <td>0</td>\n",
       "      <td>0</td>\n",
       "      <td>0</td>\n",
       "    </tr>\n",
       "    <tr>\n",
       "      <th>1</th>\n",
       "      <td>67.0</td>\n",
       "      <td>1.0</td>\n",
       "      <td>160.0</td>\n",
       "      <td>286.0</td>\n",
       "      <td>0.0</td>\n",
       "      <td>108.0</td>\n",
       "      <td>1.0</td>\n",
       "      <td>1.5</td>\n",
       "      <td>1</td>\n",
       "      <td>0</td>\n",
       "      <td>0</td>\n",
       "      <td>0</td>\n",
       "      <td>1</td>\n",
       "      <td>0</td>\n",
       "      <td>0</td>\n",
       "      <td>1</td>\n",
       "      <td>0</td>\n",
       "      <td>1</td>\n",
       "      <td>0</td>\n",
       "      <td>0</td>\n",
       "      <td>0</td>\n",
       "      <td>0</td>\n",
       "      <td>1</td>\n",
       "      <td>1</td>\n",
       "      <td>0</td>\n",
       "      <td>0</td>\n",
       "      <td>1</td>\n",
       "      <td>0</td>\n",
       "      <td>0</td>\n",
       "      <td>0</td>\n",
       "    </tr>\n",
       "    <tr>\n",
       "      <th>2</th>\n",
       "      <td>67.0</td>\n",
       "      <td>1.0</td>\n",
       "      <td>120.0</td>\n",
       "      <td>229.0</td>\n",
       "      <td>0.0</td>\n",
       "      <td>129.0</td>\n",
       "      <td>1.0</td>\n",
       "      <td>2.6</td>\n",
       "      <td>1</td>\n",
       "      <td>0</td>\n",
       "      <td>0</td>\n",
       "      <td>0</td>\n",
       "      <td>1</td>\n",
       "      <td>0</td>\n",
       "      <td>0</td>\n",
       "      <td>1</td>\n",
       "      <td>0</td>\n",
       "      <td>1</td>\n",
       "      <td>0</td>\n",
       "      <td>0</td>\n",
       "      <td>0</td>\n",
       "      <td>1</td>\n",
       "      <td>0</td>\n",
       "      <td>0</td>\n",
       "      <td>0</td>\n",
       "      <td>1</td>\n",
       "      <td>1</td>\n",
       "      <td>0</td>\n",
       "      <td>0</td>\n",
       "      <td>0</td>\n",
       "    </tr>\n",
       "    <tr>\n",
       "      <th>3</th>\n",
       "      <td>37.0</td>\n",
       "      <td>1.0</td>\n",
       "      <td>130.0</td>\n",
       "      <td>250.0</td>\n",
       "      <td>0.0</td>\n",
       "      <td>187.0</td>\n",
       "      <td>0.0</td>\n",
       "      <td>3.5</td>\n",
       "      <td>0</td>\n",
       "      <td>0</td>\n",
       "      <td>0</td>\n",
       "      <td>1</td>\n",
       "      <td>0</td>\n",
       "      <td>1</td>\n",
       "      <td>0</td>\n",
       "      <td>0</td>\n",
       "      <td>0</td>\n",
       "      <td>0</td>\n",
       "      <td>1</td>\n",
       "      <td>1</td>\n",
       "      <td>0</td>\n",
       "      <td>0</td>\n",
       "      <td>0</td>\n",
       "      <td>1</td>\n",
       "      <td>0</td>\n",
       "      <td>0</td>\n",
       "      <td>1</td>\n",
       "      <td>0</td>\n",
       "      <td>0</td>\n",
       "      <td>0</td>\n",
       "    </tr>\n",
       "    <tr>\n",
       "      <th>4</th>\n",
       "      <td>41.0</td>\n",
       "      <td>0.0</td>\n",
       "      <td>130.0</td>\n",
       "      <td>204.0</td>\n",
       "      <td>0.0</td>\n",
       "      <td>172.0</td>\n",
       "      <td>0.0</td>\n",
       "      <td>1.4</td>\n",
       "      <td>0</td>\n",
       "      <td>0</td>\n",
       "      <td>1</td>\n",
       "      <td>0</td>\n",
       "      <td>0</td>\n",
       "      <td>0</td>\n",
       "      <td>0</td>\n",
       "      <td>1</td>\n",
       "      <td>1</td>\n",
       "      <td>0</td>\n",
       "      <td>0</td>\n",
       "      <td>1</td>\n",
       "      <td>0</td>\n",
       "      <td>0</td>\n",
       "      <td>0</td>\n",
       "      <td>1</td>\n",
       "      <td>0</td>\n",
       "      <td>0</td>\n",
       "      <td>1</td>\n",
       "      <td>0</td>\n",
       "      <td>0</td>\n",
       "      <td>0</td>\n",
       "    </tr>\n",
       "  </tbody>\n",
       "</table>\n",
       "</div>"
      ],
      "text/plain": [
       "    age  sex trestbps   chol  fbs  thalach exang  oldpeak target  cp_1.0  \\\n",
       "0  63.0  1.0    145.0  233.0  1.0    150.0   0.0      2.3      0       1   \n",
       "1  67.0  1.0    160.0  286.0  0.0    108.0   1.0      1.5      1       0   \n",
       "2  67.0  1.0    120.0  229.0  0.0    129.0   1.0      2.6      1       0   \n",
       "3  37.0  1.0    130.0  250.0  0.0    187.0   0.0      3.5      0       0   \n",
       "4  41.0  0.0    130.0  204.0  0.0    172.0   0.0      1.4      0       0   \n",
       "\n",
       "   cp_2.0  cp_3.0  cp_4.0  restecg_0.0  restecg_1.0  restecg_2.0  slope_1.0  \\\n",
       "0       0       0       0            0            0            1          0   \n",
       "1       0       0       1            0            0            1          0   \n",
       "2       0       0       1            0            0            1          0   \n",
       "3       0       1       0            1            0            0          0   \n",
       "4       1       0       0            0            0            1          1   \n",
       "\n",
       "   slope_2.0  slope_3.0  ca_0.0  ca_1.0  ca_2.0  ca_3.0  thal_3.0  thal_6.0  \\\n",
       "0          0          1       1       0       0       0         0         1   \n",
       "1          1          0       0       0       0       1         1         0   \n",
       "2          1          0       0       0       1       0         0         0   \n",
       "3          0          1       1       0       0       0         1         0   \n",
       "4          0          0       1       0       0       0         1         0   \n",
       "\n",
       "   thal_7.0  region_Cleveland  region_Hungary  region_Long Beach  \\\n",
       "0         0                 1               0                  0   \n",
       "1         0                 1               0                  0   \n",
       "2         1                 1               0                  0   \n",
       "3         0                 1               0                  0   \n",
       "4         0                 1               0                  0   \n",
       "\n",
       "   region_Switzerland  \n",
       "0                   0  \n",
       "1                   0  \n",
       "2                   0  \n",
       "3                   0  \n",
       "4                   0  "
      ]
     },
     "execution_count": 363,
     "metadata": {},
     "output_type": "execute_result"
    }
   ],
   "source": [
    "#As we have already converted the variables to binary, so we do not need the others - ERASE OLD VARIABLES (cp, restecg, slope, ca, and thal,region)\n",
    "\n",
    "df_conc = df_conc.drop(columns = ['cp', 'thal', 'slope', 'region', 'restecg','ca'])\n",
    "\n",
    "df_conc.head()"
   ]
  },
  {
   "cell_type": "code",
   "execution_count": 364,
   "id": "8a1b410c",
   "metadata": {},
   "outputs": [
    {
     "data": {
      "text/plain": [
       "['age',\n",
       " 'sex',\n",
       " 'trestbps',\n",
       " 'chol',\n",
       " 'fbs',\n",
       " 'thalach',\n",
       " 'exang',\n",
       " 'oldpeak',\n",
       " 'target',\n",
       " 'cp_1.0',\n",
       " 'cp_2.0',\n",
       " 'cp_3.0',\n",
       " 'cp_4.0',\n",
       " 'restecg_0.0',\n",
       " 'restecg_1.0',\n",
       " 'restecg_2.0',\n",
       " 'slope_1.0',\n",
       " 'slope_2.0',\n",
       " 'slope_3.0',\n",
       " 'ca_0.0',\n",
       " 'ca_1.0',\n",
       " 'ca_2.0',\n",
       " 'ca_3.0',\n",
       " 'thal_3.0',\n",
       " 'thal_6.0',\n",
       " 'thal_7.0',\n",
       " 'region_Cleveland',\n",
       " 'region_Hungary',\n",
       " 'region_Long Beach',\n",
       " 'region_Switzerland']"
      ]
     },
     "execution_count": 364,
     "metadata": {},
     "output_type": "execute_result"
    }
   ],
   "source": [
    "#KEEP columns name\n",
    "all_name_columns = list(df_conc.columns)\n",
    "all_name_columns"
   ]
  },
  {
   "cell_type": "markdown",
   "id": "40e6ecac",
   "metadata": {},
   "source": [
    "###  Normalization of numerical data\n",
    "Since the numerical variables show large numbers we will normalize the data (values from zero to one)"
   ]
  },
  {
   "cell_type": "code",
   "execution_count": 365,
   "id": "37458e72",
   "metadata": {},
   "outputs": [],
   "source": [
    "df_conc = MinMaxScaler().fit_transform(df_conc)"
   ]
  },
  {
   "cell_type": "code",
   "execution_count": 366,
   "id": "b14616d1",
   "metadata": {},
   "outputs": [],
   "source": [
    "df_conc = pd.DataFrame(df_conc)"
   ]
  },
  {
   "cell_type": "code",
   "execution_count": 367,
   "id": "37b2aa8a",
   "metadata": {},
   "outputs": [
    {
     "data": {
      "text/html": [
       "<div>\n",
       "<style scoped>\n",
       "    .dataframe tbody tr th:only-of-type {\n",
       "        vertical-align: middle;\n",
       "    }\n",
       "\n",
       "    .dataframe tbody tr th {\n",
       "        vertical-align: top;\n",
       "    }\n",
       "\n",
       "    .dataframe thead th {\n",
       "        text-align: right;\n",
       "    }\n",
       "</style>\n",
       "<table border=\"1\" class=\"dataframe\">\n",
       "  <thead>\n",
       "    <tr style=\"text-align: right;\">\n",
       "      <th></th>\n",
       "      <th>0</th>\n",
       "      <th>1</th>\n",
       "      <th>2</th>\n",
       "      <th>3</th>\n",
       "      <th>4</th>\n",
       "      <th>5</th>\n",
       "      <th>6</th>\n",
       "      <th>7</th>\n",
       "      <th>8</th>\n",
       "      <th>9</th>\n",
       "      <th>10</th>\n",
       "      <th>11</th>\n",
       "      <th>12</th>\n",
       "      <th>13</th>\n",
       "      <th>14</th>\n",
       "      <th>15</th>\n",
       "      <th>16</th>\n",
       "      <th>17</th>\n",
       "      <th>18</th>\n",
       "      <th>19</th>\n",
       "      <th>20</th>\n",
       "      <th>21</th>\n",
       "      <th>22</th>\n",
       "      <th>23</th>\n",
       "      <th>24</th>\n",
       "      <th>25</th>\n",
       "      <th>26</th>\n",
       "      <th>27</th>\n",
       "      <th>28</th>\n",
       "      <th>29</th>\n",
       "    </tr>\n",
       "  </thead>\n",
       "  <tbody>\n",
       "    <tr>\n",
       "      <th>0</th>\n",
       "      <td>0.714286</td>\n",
       "      <td>1.0</td>\n",
       "      <td>0.541667</td>\n",
       "      <td>0.285714</td>\n",
       "      <td>1.0</td>\n",
       "      <td>0.633803</td>\n",
       "      <td>0.0</td>\n",
       "      <td>0.556818</td>\n",
       "      <td>0.0</td>\n",
       "      <td>1.0</td>\n",
       "      <td>0.0</td>\n",
       "      <td>0.0</td>\n",
       "      <td>0.0</td>\n",
       "      <td>0.0</td>\n",
       "      <td>0.0</td>\n",
       "      <td>1.0</td>\n",
       "      <td>0.0</td>\n",
       "      <td>0.0</td>\n",
       "      <td>1.0</td>\n",
       "      <td>1.0</td>\n",
       "      <td>0.0</td>\n",
       "      <td>0.0</td>\n",
       "      <td>0.0</td>\n",
       "      <td>0.0</td>\n",
       "      <td>1.0</td>\n",
       "      <td>0.0</td>\n",
       "      <td>1.0</td>\n",
       "      <td>0.0</td>\n",
       "      <td>0.0</td>\n",
       "      <td>0.0</td>\n",
       "    </tr>\n",
       "    <tr>\n",
       "      <th>1</th>\n",
       "      <td>0.795918</td>\n",
       "      <td>1.0</td>\n",
       "      <td>0.666667</td>\n",
       "      <td>0.388031</td>\n",
       "      <td>0.0</td>\n",
       "      <td>0.338028</td>\n",
       "      <td>1.0</td>\n",
       "      <td>0.465909</td>\n",
       "      <td>1.0</td>\n",
       "      <td>0.0</td>\n",
       "      <td>0.0</td>\n",
       "      <td>0.0</td>\n",
       "      <td>1.0</td>\n",
       "      <td>0.0</td>\n",
       "      <td>0.0</td>\n",
       "      <td>1.0</td>\n",
       "      <td>0.0</td>\n",
       "      <td>1.0</td>\n",
       "      <td>0.0</td>\n",
       "      <td>0.0</td>\n",
       "      <td>0.0</td>\n",
       "      <td>0.0</td>\n",
       "      <td>1.0</td>\n",
       "      <td>1.0</td>\n",
       "      <td>0.0</td>\n",
       "      <td>0.0</td>\n",
       "      <td>1.0</td>\n",
       "      <td>0.0</td>\n",
       "      <td>0.0</td>\n",
       "      <td>0.0</td>\n",
       "    </tr>\n",
       "    <tr>\n",
       "      <th>2</th>\n",
       "      <td>0.795918</td>\n",
       "      <td>1.0</td>\n",
       "      <td>0.333333</td>\n",
       "      <td>0.277992</td>\n",
       "      <td>0.0</td>\n",
       "      <td>0.485915</td>\n",
       "      <td>1.0</td>\n",
       "      <td>0.590909</td>\n",
       "      <td>1.0</td>\n",
       "      <td>0.0</td>\n",
       "      <td>0.0</td>\n",
       "      <td>0.0</td>\n",
       "      <td>1.0</td>\n",
       "      <td>0.0</td>\n",
       "      <td>0.0</td>\n",
       "      <td>1.0</td>\n",
       "      <td>0.0</td>\n",
       "      <td>1.0</td>\n",
       "      <td>0.0</td>\n",
       "      <td>0.0</td>\n",
       "      <td>0.0</td>\n",
       "      <td>1.0</td>\n",
       "      <td>0.0</td>\n",
       "      <td>0.0</td>\n",
       "      <td>0.0</td>\n",
       "      <td>1.0</td>\n",
       "      <td>1.0</td>\n",
       "      <td>0.0</td>\n",
       "      <td>0.0</td>\n",
       "      <td>0.0</td>\n",
       "    </tr>\n",
       "    <tr>\n",
       "      <th>3</th>\n",
       "      <td>0.183673</td>\n",
       "      <td>1.0</td>\n",
       "      <td>0.416667</td>\n",
       "      <td>0.318533</td>\n",
       "      <td>0.0</td>\n",
       "      <td>0.894366</td>\n",
       "      <td>0.0</td>\n",
       "      <td>0.693182</td>\n",
       "      <td>0.0</td>\n",
       "      <td>0.0</td>\n",
       "      <td>0.0</td>\n",
       "      <td>1.0</td>\n",
       "      <td>0.0</td>\n",
       "      <td>1.0</td>\n",
       "      <td>0.0</td>\n",
       "      <td>0.0</td>\n",
       "      <td>0.0</td>\n",
       "      <td>0.0</td>\n",
       "      <td>1.0</td>\n",
       "      <td>1.0</td>\n",
       "      <td>0.0</td>\n",
       "      <td>0.0</td>\n",
       "      <td>0.0</td>\n",
       "      <td>1.0</td>\n",
       "      <td>0.0</td>\n",
       "      <td>0.0</td>\n",
       "      <td>1.0</td>\n",
       "      <td>0.0</td>\n",
       "      <td>0.0</td>\n",
       "      <td>0.0</td>\n",
       "    </tr>\n",
       "    <tr>\n",
       "      <th>4</th>\n",
       "      <td>0.265306</td>\n",
       "      <td>0.0</td>\n",
       "      <td>0.416667</td>\n",
       "      <td>0.229730</td>\n",
       "      <td>0.0</td>\n",
       "      <td>0.788732</td>\n",
       "      <td>0.0</td>\n",
       "      <td>0.454545</td>\n",
       "      <td>0.0</td>\n",
       "      <td>0.0</td>\n",
       "      <td>1.0</td>\n",
       "      <td>0.0</td>\n",
       "      <td>0.0</td>\n",
       "      <td>0.0</td>\n",
       "      <td>0.0</td>\n",
       "      <td>1.0</td>\n",
       "      <td>1.0</td>\n",
       "      <td>0.0</td>\n",
       "      <td>0.0</td>\n",
       "      <td>1.0</td>\n",
       "      <td>0.0</td>\n",
       "      <td>0.0</td>\n",
       "      <td>0.0</td>\n",
       "      <td>1.0</td>\n",
       "      <td>0.0</td>\n",
       "      <td>0.0</td>\n",
       "      <td>1.0</td>\n",
       "      <td>0.0</td>\n",
       "      <td>0.0</td>\n",
       "      <td>0.0</td>\n",
       "    </tr>\n",
       "  </tbody>\n",
       "</table>\n",
       "</div>"
      ],
      "text/plain": [
       "         0    1         2         3    4         5    6         7    8    9   \\\n",
       "0  0.714286  1.0  0.541667  0.285714  1.0  0.633803  0.0  0.556818  0.0  1.0   \n",
       "1  0.795918  1.0  0.666667  0.388031  0.0  0.338028  1.0  0.465909  1.0  0.0   \n",
       "2  0.795918  1.0  0.333333  0.277992  0.0  0.485915  1.0  0.590909  1.0  0.0   \n",
       "3  0.183673  1.0  0.416667  0.318533  0.0  0.894366  0.0  0.693182  0.0  0.0   \n",
       "4  0.265306  0.0  0.416667  0.229730  0.0  0.788732  0.0  0.454545  0.0  0.0   \n",
       "\n",
       "    10   11   12   13   14   15   16   17   18   19   20   21   22   23   24  \\\n",
       "0  0.0  0.0  0.0  0.0  0.0  1.0  0.0  0.0  1.0  1.0  0.0  0.0  0.0  0.0  1.0   \n",
       "1  0.0  0.0  1.0  0.0  0.0  1.0  0.0  1.0  0.0  0.0  0.0  0.0  1.0  1.0  0.0   \n",
       "2  0.0  0.0  1.0  0.0  0.0  1.0  0.0  1.0  0.0  0.0  0.0  1.0  0.0  0.0  0.0   \n",
       "3  0.0  1.0  0.0  1.0  0.0  0.0  0.0  0.0  1.0  1.0  0.0  0.0  0.0  1.0  0.0   \n",
       "4  1.0  0.0  0.0  0.0  0.0  1.0  1.0  0.0  0.0  1.0  0.0  0.0  0.0  1.0  0.0   \n",
       "\n",
       "    25   26   27   28   29  \n",
       "0  0.0  1.0  0.0  0.0  0.0  \n",
       "1  0.0  1.0  0.0  0.0  0.0  \n",
       "2  1.0  1.0  0.0  0.0  0.0  \n",
       "3  0.0  1.0  0.0  0.0  0.0  \n",
       "4  0.0  1.0  0.0  0.0  0.0  "
      ]
     },
     "execution_count": 367,
     "metadata": {},
     "output_type": "execute_result"
    }
   ],
   "source": [
    "df_conc.head()"
   ]
  },
  {
   "cell_type": "code",
   "execution_count": 371,
   "id": "b787601d",
   "metadata": {},
   "outputs": [
    {
     "data": {
      "text/html": [
       "<div>\n",
       "<style scoped>\n",
       "    .dataframe tbody tr th:only-of-type {\n",
       "        vertical-align: middle;\n",
       "    }\n",
       "\n",
       "    .dataframe tbody tr th {\n",
       "        vertical-align: top;\n",
       "    }\n",
       "\n",
       "    .dataframe thead th {\n",
       "        text-align: right;\n",
       "    }\n",
       "</style>\n",
       "<table border=\"1\" class=\"dataframe\">\n",
       "  <thead>\n",
       "    <tr style=\"text-align: right;\">\n",
       "      <th></th>\n",
       "      <th>age</th>\n",
       "      <th>sex</th>\n",
       "      <th>trestbps</th>\n",
       "      <th>chol</th>\n",
       "      <th>fbs</th>\n",
       "      <th>thalach</th>\n",
       "      <th>exang</th>\n",
       "      <th>oldpeak</th>\n",
       "      <th>target</th>\n",
       "      <th>cp_1.0</th>\n",
       "      <th>cp_2.0</th>\n",
       "      <th>cp_3.0</th>\n",
       "      <th>cp_4.0</th>\n",
       "      <th>restecg_0.0</th>\n",
       "      <th>restecg_1.0</th>\n",
       "      <th>restecg_2.0</th>\n",
       "      <th>slope_1.0</th>\n",
       "      <th>slope_2.0</th>\n",
       "      <th>slope_3.0</th>\n",
       "      <th>ca_0.0</th>\n",
       "      <th>ca_1.0</th>\n",
       "      <th>ca_2.0</th>\n",
       "      <th>ca_3.0</th>\n",
       "      <th>thal_3.0</th>\n",
       "      <th>thal_6.0</th>\n",
       "      <th>thal_7.0</th>\n",
       "      <th>region_Cleveland</th>\n",
       "      <th>region_Hungary</th>\n",
       "      <th>region_Long Beach</th>\n",
       "      <th>region_Switzerland</th>\n",
       "    </tr>\n",
       "  </thead>\n",
       "  <tbody>\n",
       "    <tr>\n",
       "      <th>0</th>\n",
       "      <td>0.714286</td>\n",
       "      <td>1.0</td>\n",
       "      <td>0.541667</td>\n",
       "      <td>0.285714</td>\n",
       "      <td>1.0</td>\n",
       "      <td>0.633803</td>\n",
       "      <td>0.0</td>\n",
       "      <td>0.556818</td>\n",
       "      <td>0.0</td>\n",
       "      <td>1.0</td>\n",
       "      <td>0.0</td>\n",
       "      <td>0.0</td>\n",
       "      <td>0.0</td>\n",
       "      <td>0.0</td>\n",
       "      <td>0.0</td>\n",
       "      <td>1.0</td>\n",
       "      <td>0.0</td>\n",
       "      <td>0.0</td>\n",
       "      <td>1.0</td>\n",
       "      <td>1.0</td>\n",
       "      <td>0.0</td>\n",
       "      <td>0.0</td>\n",
       "      <td>0.0</td>\n",
       "      <td>0.0</td>\n",
       "      <td>1.0</td>\n",
       "      <td>0.0</td>\n",
       "      <td>1.0</td>\n",
       "      <td>0.0</td>\n",
       "      <td>0.0</td>\n",
       "      <td>0.0</td>\n",
       "    </tr>\n",
       "    <tr>\n",
       "      <th>1</th>\n",
       "      <td>0.795918</td>\n",
       "      <td>1.0</td>\n",
       "      <td>0.666667</td>\n",
       "      <td>0.388031</td>\n",
       "      <td>0.0</td>\n",
       "      <td>0.338028</td>\n",
       "      <td>1.0</td>\n",
       "      <td>0.465909</td>\n",
       "      <td>1.0</td>\n",
       "      <td>0.0</td>\n",
       "      <td>0.0</td>\n",
       "      <td>0.0</td>\n",
       "      <td>1.0</td>\n",
       "      <td>0.0</td>\n",
       "      <td>0.0</td>\n",
       "      <td>1.0</td>\n",
       "      <td>0.0</td>\n",
       "      <td>1.0</td>\n",
       "      <td>0.0</td>\n",
       "      <td>0.0</td>\n",
       "      <td>0.0</td>\n",
       "      <td>0.0</td>\n",
       "      <td>1.0</td>\n",
       "      <td>1.0</td>\n",
       "      <td>0.0</td>\n",
       "      <td>0.0</td>\n",
       "      <td>1.0</td>\n",
       "      <td>0.0</td>\n",
       "      <td>0.0</td>\n",
       "      <td>0.0</td>\n",
       "    </tr>\n",
       "    <tr>\n",
       "      <th>2</th>\n",
       "      <td>0.795918</td>\n",
       "      <td>1.0</td>\n",
       "      <td>0.333333</td>\n",
       "      <td>0.277992</td>\n",
       "      <td>0.0</td>\n",
       "      <td>0.485915</td>\n",
       "      <td>1.0</td>\n",
       "      <td>0.590909</td>\n",
       "      <td>1.0</td>\n",
       "      <td>0.0</td>\n",
       "      <td>0.0</td>\n",
       "      <td>0.0</td>\n",
       "      <td>1.0</td>\n",
       "      <td>0.0</td>\n",
       "      <td>0.0</td>\n",
       "      <td>1.0</td>\n",
       "      <td>0.0</td>\n",
       "      <td>1.0</td>\n",
       "      <td>0.0</td>\n",
       "      <td>0.0</td>\n",
       "      <td>0.0</td>\n",
       "      <td>1.0</td>\n",
       "      <td>0.0</td>\n",
       "      <td>0.0</td>\n",
       "      <td>0.0</td>\n",
       "      <td>1.0</td>\n",
       "      <td>1.0</td>\n",
       "      <td>0.0</td>\n",
       "      <td>0.0</td>\n",
       "      <td>0.0</td>\n",
       "    </tr>\n",
       "    <tr>\n",
       "      <th>3</th>\n",
       "      <td>0.183673</td>\n",
       "      <td>1.0</td>\n",
       "      <td>0.416667</td>\n",
       "      <td>0.318533</td>\n",
       "      <td>0.0</td>\n",
       "      <td>0.894366</td>\n",
       "      <td>0.0</td>\n",
       "      <td>0.693182</td>\n",
       "      <td>0.0</td>\n",
       "      <td>0.0</td>\n",
       "      <td>0.0</td>\n",
       "      <td>1.0</td>\n",
       "      <td>0.0</td>\n",
       "      <td>1.0</td>\n",
       "      <td>0.0</td>\n",
       "      <td>0.0</td>\n",
       "      <td>0.0</td>\n",
       "      <td>0.0</td>\n",
       "      <td>1.0</td>\n",
       "      <td>1.0</td>\n",
       "      <td>0.0</td>\n",
       "      <td>0.0</td>\n",
       "      <td>0.0</td>\n",
       "      <td>1.0</td>\n",
       "      <td>0.0</td>\n",
       "      <td>0.0</td>\n",
       "      <td>1.0</td>\n",
       "      <td>0.0</td>\n",
       "      <td>0.0</td>\n",
       "      <td>0.0</td>\n",
       "    </tr>\n",
       "    <tr>\n",
       "      <th>4</th>\n",
       "      <td>0.265306</td>\n",
       "      <td>0.0</td>\n",
       "      <td>0.416667</td>\n",
       "      <td>0.229730</td>\n",
       "      <td>0.0</td>\n",
       "      <td>0.788732</td>\n",
       "      <td>0.0</td>\n",
       "      <td>0.454545</td>\n",
       "      <td>0.0</td>\n",
       "      <td>0.0</td>\n",
       "      <td>1.0</td>\n",
       "      <td>0.0</td>\n",
       "      <td>0.0</td>\n",
       "      <td>0.0</td>\n",
       "      <td>0.0</td>\n",
       "      <td>1.0</td>\n",
       "      <td>1.0</td>\n",
       "      <td>0.0</td>\n",
       "      <td>0.0</td>\n",
       "      <td>1.0</td>\n",
       "      <td>0.0</td>\n",
       "      <td>0.0</td>\n",
       "      <td>0.0</td>\n",
       "      <td>1.0</td>\n",
       "      <td>0.0</td>\n",
       "      <td>0.0</td>\n",
       "      <td>1.0</td>\n",
       "      <td>0.0</td>\n",
       "      <td>0.0</td>\n",
       "      <td>0.0</td>\n",
       "    </tr>\n",
       "  </tbody>\n",
       "</table>\n",
       "</div>"
      ],
      "text/plain": [
       "        age  sex  trestbps      chol  fbs   thalach  exang   oldpeak  target  \\\n",
       "0  0.714286  1.0  0.541667  0.285714  1.0  0.633803    0.0  0.556818     0.0   \n",
       "1  0.795918  1.0  0.666667  0.388031  0.0  0.338028    1.0  0.465909     1.0   \n",
       "2  0.795918  1.0  0.333333  0.277992  0.0  0.485915    1.0  0.590909     1.0   \n",
       "3  0.183673  1.0  0.416667  0.318533  0.0  0.894366    0.0  0.693182     0.0   \n",
       "4  0.265306  0.0  0.416667  0.229730  0.0  0.788732    0.0  0.454545     0.0   \n",
       "\n",
       "   cp_1.0  cp_2.0  cp_3.0  cp_4.0  restecg_0.0  restecg_1.0  restecg_2.0  \\\n",
       "0     1.0     0.0     0.0     0.0          0.0          0.0          1.0   \n",
       "1     0.0     0.0     0.0     1.0          0.0          0.0          1.0   \n",
       "2     0.0     0.0     0.0     1.0          0.0          0.0          1.0   \n",
       "3     0.0     0.0     1.0     0.0          1.0          0.0          0.0   \n",
       "4     0.0     1.0     0.0     0.0          0.0          0.0          1.0   \n",
       "\n",
       "   slope_1.0  slope_2.0  slope_3.0  ca_0.0  ca_1.0  ca_2.0  ca_3.0  thal_3.0  \\\n",
       "0        0.0        0.0        1.0     1.0     0.0     0.0     0.0       0.0   \n",
       "1        0.0        1.0        0.0     0.0     0.0     0.0     1.0       1.0   \n",
       "2        0.0        1.0        0.0     0.0     0.0     1.0     0.0       0.0   \n",
       "3        0.0        0.0        1.0     1.0     0.0     0.0     0.0       1.0   \n",
       "4        1.0        0.0        0.0     1.0     0.0     0.0     0.0       1.0   \n",
       "\n",
       "   thal_6.0  thal_7.0  region_Cleveland  region_Hungary  region_Long Beach  \\\n",
       "0       1.0       0.0               1.0             0.0                0.0   \n",
       "1       0.0       0.0               1.0             0.0                0.0   \n",
       "2       0.0       1.0               1.0             0.0                0.0   \n",
       "3       0.0       0.0               1.0             0.0                0.0   \n",
       "4       0.0       0.0               1.0             0.0                0.0   \n",
       "\n",
       "   region_Switzerland  \n",
       "0                 0.0  \n",
       "1                 0.0  \n",
       "2                 0.0  \n",
       "3                 0.0  \n",
       "4                 0.0  "
      ]
     },
     "execution_count": 371,
     "metadata": {},
     "output_type": "execute_result"
    }
   ],
   "source": [
    "df_conc.columns = all_name_columns\n",
    "df_conc.head()"
   ]
  },
  {
   "cell_type": "code",
   "execution_count": 372,
   "id": "03df28c2",
   "metadata": {},
   "outputs": [],
   "source": [
    "#Generates a csv file with the final dataset\n",
    "df_conc.to_csv('dataframe_cleaned_heart_14.csv')"
   ]
  },
  {
   "cell_type": "markdown",
   "id": "d95d7bc8",
   "metadata": {},
   "source": [
    "# EXPLORATORY DATA ANALYSIS (EDA)\n",
    "In total there are 14 Attibutes, 3 of them are numerical (age,thalach,oldpeak) and the rest are categorical.\n",
    "\n",
    "###  univariate analysis, bivariate analysis, visualisation of numerical and categorical variables, correlation matrix, check pearson correlation heatmaps"
   ]
  },
  {
   "cell_type": "code",
   "execution_count": null,
   "id": "481f8fe1",
   "metadata": {},
   "outputs": [],
   "source": []
  },
  {
   "cell_type": "code",
   "execution_count": null,
   "id": "8560c1b3",
   "metadata": {},
   "outputs": [],
   "source": []
  },
  {
   "cell_type": "code",
   "execution_count": null,
   "id": "fe628405",
   "metadata": {},
   "outputs": [],
   "source": []
  },
  {
   "cell_type": "code",
   "execution_count": null,
   "id": "52cf55e0",
   "metadata": {},
   "outputs": [],
   "source": []
  },
  {
   "cell_type": "markdown",
   "id": "705cfa0f",
   "metadata": {},
   "source": [
    "# DATA MODELLING\n",
    "\n",
    "\n",
    "\n",
    "###  random forest classifier, decision tree classifier, logistic regression, k-nearest neighbours classification, support vector machine algorithm, naive bayes algorithm, confusion matrix, model comparison"
   ]
  },
  {
   "cell_type": "code",
   "execution_count": null,
   "id": "7a654605",
   "metadata": {},
   "outputs": [],
   "source": []
  }
 ],
 "metadata": {
  "kernelspec": {
   "display_name": "Python 3 (ipykernel)",
   "language": "python",
   "name": "python3"
  },
  "language_info": {
   "codemirror_mode": {
    "name": "ipython",
    "version": 3
   },
   "file_extension": ".py",
   "mimetype": "text/x-python",
   "name": "python",
   "nbconvert_exporter": "python",
   "pygments_lexer": "ipython3",
   "version": "3.9.12"
  }
 },
 "nbformat": 4,
 "nbformat_minor": 5
}
