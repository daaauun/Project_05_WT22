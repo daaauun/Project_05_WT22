{
 "cells": [
  {
   "cell_type": "code",
   "execution_count": 1,
   "id": "3e6db07f",
   "metadata": {},
   "outputs": [],
   "source": [
    "\n"
   ]
  },
  {
   "cell_type": "code",
   "execution_count": null,
   "id": "aae81b3a",
   "metadata": {},
   "outputs": [],
   "source": []
  },
  {
   "cell_type": "code",
   "execution_count": null,
   "id": "53bc31ed",
   "metadata": {},
   "outputs": [],
   "source": [
    "#LIBRARIES\n",
    "\n",
    "import pandas as pd\n",
    "import numpy as np"
   ]
  },
  {
   "cell_type": "code",
   "execution_count": 2,
   "id": "1e9e57e8",
   "metadata": {},
   "outputs": [],
   "source": [
    "# These options help us to inspect our data more easily.\n",
    "pd.set_option(\"display.max_columns\", 85)\n",
    "pd.set_option(\"display.max_rows\", 85)"
   ]
  },
  {
   "cell_type": "code",
   "execution_count": 27,
   "id": "5df31f71",
   "metadata": {},
   "outputs": [],
   "source": [
    "# These commands load the dataframe\n",
    "na_vals = ['NA','Missing','?']   #convert to NaN value\n",
    "df_cleveland = pd.read_csv(\"processed.cleveland.csv\", header = None, na_values=na_vals)\n",
    "df_hungarian = pd.read_csv(\"processed.hungarian.csv\", header = None, na_values=na_vals)\n",
    "df_va = pd.read_csv(\"processed.va.csv\", header = None, na_values=na_vals)\n",
    "df_switzerland = pd.read_csv(\"processed.switzerland.csv\",header = None, na_values=na_vals)\n",
    "\n",
    "schema_df = pd.read_csv(\"column_description_heart.csv\", index_col = \"No.\")"
   ]
  },
  {
   "cell_type": "code",
   "execution_count": 4,
   "id": "fe4fd4eb",
   "metadata": {},
   "outputs": [
    {
     "data": {
      "text/html": [
       "<div>\n",
       "<style scoped>\n",
       "    .dataframe tbody tr th:only-of-type {\n",
       "        vertical-align: middle;\n",
       "    }\n",
       "\n",
       "    .dataframe tbody tr th {\n",
       "        vertical-align: top;\n",
       "    }\n",
       "\n",
       "    .dataframe thead th {\n",
       "        text-align: right;\n",
       "    }\n",
       "</style>\n",
       "<table border=\"1\" class=\"dataframe\">\n",
       "  <thead>\n",
       "    <tr style=\"text-align: right;\">\n",
       "      <th></th>\n",
       "      <th>Attribute</th>\n",
       "      <th>Column</th>\n",
       "      <th>Description</th>\n",
       "    </tr>\n",
       "    <tr>\n",
       "      <th>No.</th>\n",
       "      <th></th>\n",
       "      <th></th>\n",
       "      <th></th>\n",
       "    </tr>\n",
       "  </thead>\n",
       "  <tbody>\n",
       "    <tr>\n",
       "      <th>1</th>\n",
       "      <td>3</td>\n",
       "      <td>A</td>\n",
       "      <td>Age</td>\n",
       "    </tr>\n",
       "    <tr>\n",
       "      <th>2</th>\n",
       "      <td>4</td>\n",
       "      <td>B</td>\n",
       "      <td>sex: sex (1 = male; 0 = female)</td>\n",
       "    </tr>\n",
       "    <tr>\n",
       "      <th>3</th>\n",
       "      <td>9</td>\n",
       "      <td>C</td>\n",
       "      <td>cp: chest pain type(1=typical angina, 2=atypic...</td>\n",
       "    </tr>\n",
       "    <tr>\n",
       "      <th>4</th>\n",
       "      <td>10</td>\n",
       "      <td>D</td>\n",
       "      <td>trestbps: resting blood pressure (in mm Hg on ...</td>\n",
       "    </tr>\n",
       "    <tr>\n",
       "      <th>5</th>\n",
       "      <td>12</td>\n",
       "      <td>E</td>\n",
       "      <td>chol: serum cholestoral in mg/dl</td>\n",
       "    </tr>\n",
       "    <tr>\n",
       "      <th>6</th>\n",
       "      <td>16</td>\n",
       "      <td>F</td>\n",
       "      <td>fbs: (fasting blood sugar &gt; 120 mg/dl)  (1 = t...</td>\n",
       "    </tr>\n",
       "    <tr>\n",
       "      <th>7</th>\n",
       "      <td>19</td>\n",
       "      <td>G</td>\n",
       "      <td>restecg: resting electrocardiographic results ...</td>\n",
       "    </tr>\n",
       "    <tr>\n",
       "      <th>8</th>\n",
       "      <td>32</td>\n",
       "      <td>H</td>\n",
       "      <td>thalach: maximum heart rate achieved</td>\n",
       "    </tr>\n",
       "    <tr>\n",
       "      <th>9</th>\n",
       "      <td>38</td>\n",
       "      <td>I</td>\n",
       "      <td>exang: exercise induced angina (1 = yes; 0 = no)</td>\n",
       "    </tr>\n",
       "    <tr>\n",
       "      <th>10</th>\n",
       "      <td>40</td>\n",
       "      <td>J</td>\n",
       "      <td>oldpeak = ST depression induced by exercise re...</td>\n",
       "    </tr>\n",
       "    <tr>\n",
       "      <th>11</th>\n",
       "      <td>41</td>\n",
       "      <td>K</td>\n",
       "      <td>slope: the slope of the peak exercise ST segme...</td>\n",
       "    </tr>\n",
       "    <tr>\n",
       "      <th>12</th>\n",
       "      <td>44</td>\n",
       "      <td>L</td>\n",
       "      <td>ca: number of major vessels (0-3) colored by f...</td>\n",
       "    </tr>\n",
       "    <tr>\n",
       "      <th>13</th>\n",
       "      <td>51</td>\n",
       "      <td>M</td>\n",
       "      <td>thal: 3 = normal; 6 = fixed defect; 7 = revers...</td>\n",
       "    </tr>\n",
       "    <tr>\n",
       "      <th>14</th>\n",
       "      <td>58</td>\n",
       "      <td>N</td>\n",
       "      <td>num: diagnosis of heart disease (angiographic ...</td>\n",
       "    </tr>\n",
       "  </tbody>\n",
       "</table>\n",
       "</div>"
      ],
      "text/plain": [
       "     Attribute Column                                        Description\n",
       "No.                                                                     \n",
       "1            3      A                                                Age\n",
       "2            4      B                    sex: sex (1 = male; 0 = female)\n",
       "3            9      C  cp: chest pain type(1=typical angina, 2=atypic...\n",
       "4           10      D  trestbps: resting blood pressure (in mm Hg on ...\n",
       "5           12      E                   chol: serum cholestoral in mg/dl\n",
       "6           16      F  fbs: (fasting blood sugar > 120 mg/dl)  (1 = t...\n",
       "7           19      G  restecg: resting electrocardiographic results ...\n",
       "8           32      H               thalach: maximum heart rate achieved\n",
       "9           38      I   exang: exercise induced angina (1 = yes; 0 = no)\n",
       "10          40      J  oldpeak = ST depression induced by exercise re...\n",
       "11          41      K  slope: the slope of the peak exercise ST segme...\n",
       "12          44      L  ca: number of major vessels (0-3) colored by f...\n",
       "13          51      M  thal: 3 = normal; 6 = fixed defect; 7 = revers...\n",
       "14          58      N  num: diagnosis of heart disease (angiographic ..."
      ]
     },
     "execution_count": 4,
     "metadata": {},
     "output_type": "execute_result"
    }
   ],
   "source": [
    "schema_df.head(14)"
   ]
  },
  {
   "cell_type": "code",
   "execution_count": 5,
   "id": "d2018758",
   "metadata": {},
   "outputs": [],
   "source": [
    "column_names = ['age','sex','cp','trestbps','chol','fbs','restecg','thalach','exang','oldpeak','slope','ca','thal','num']"
   ]
  },
  {
   "cell_type": "code",
   "execution_count": 6,
   "id": "b218075e",
   "metadata": {},
   "outputs": [],
   "source": [
    "df_cleveland.columns = column_names"
   ]
  },
  {
   "cell_type": "code",
   "execution_count": 7,
   "id": "4ec3fbe5",
   "metadata": {},
   "outputs": [],
   "source": [
    "df_cleveland['region']='Cleveland'"
   ]
  },
  {
   "cell_type": "code",
   "execution_count": 8,
   "id": "d877282d",
   "metadata": {},
   "outputs": [
    {
     "name": "stdout",
     "output_type": "stream",
     "text": [
      "      age  sex   cp  trestbps   chol  fbs  restecg  thalach  exang  oldpeak  \\\n",
      "0    63.0  1.0  1.0     145.0  233.0  1.0      2.0    150.0    0.0      2.3   \n",
      "1    67.0  1.0  4.0     160.0  286.0  0.0      2.0    108.0    1.0      1.5   \n",
      "2    67.0  1.0  4.0     120.0  229.0  0.0      2.0    129.0    1.0      2.6   \n",
      "3    37.0  1.0  3.0     130.0  250.0  0.0      0.0    187.0    0.0      3.5   \n",
      "4    41.0  0.0  2.0     130.0  204.0  0.0      2.0    172.0    0.0      1.4   \n",
      "..    ...  ...  ...       ...    ...  ...      ...      ...    ...      ...   \n",
      "298  45.0  1.0  1.0     110.0  264.0  0.0      0.0    132.0    0.0      1.2   \n",
      "299  68.0  1.0  4.0     144.0  193.0  1.0      0.0    141.0    0.0      3.4   \n",
      "300  57.0  1.0  4.0     130.0  131.0  0.0      0.0    115.0    1.0      1.2   \n",
      "301  57.0  0.0  2.0     130.0  236.0  0.0      2.0    174.0    0.0      0.0   \n",
      "302  38.0  1.0  3.0     138.0  175.0  0.0      0.0    173.0    0.0      0.0   \n",
      "\n",
      "     slope   ca  thal  num     region  \n",
      "0      3.0  0.0   6.0    0  Cleveland  \n",
      "1      2.0  3.0   3.0    2  Cleveland  \n",
      "2      2.0  2.0   7.0    1  Cleveland  \n",
      "3      3.0  0.0   3.0    0  Cleveland  \n",
      "4      1.0  0.0   3.0    0  Cleveland  \n",
      "..     ...  ...   ...  ...        ...  \n",
      "298    2.0  0.0   7.0    1  Cleveland  \n",
      "299    2.0  2.0   7.0    2  Cleveland  \n",
      "300    2.0  1.0   7.0    3  Cleveland  \n",
      "301    2.0  1.0   3.0    1  Cleveland  \n",
      "302    1.0  NaN   3.0    0  Cleveland  \n",
      "\n",
      "[303 rows x 15 columns]\n"
     ]
    }
   ],
   "source": [
    "print(df_cleveland)"
   ]
  },
  {
   "cell_type": "code",
   "execution_count": 9,
   "id": "0e4fb764",
   "metadata": {},
   "outputs": [
    {
     "data": {
      "text/plain": [
       "age         float64\n",
       "sex         float64\n",
       "cp          float64\n",
       "trestbps    float64\n",
       "chol        float64\n",
       "fbs         float64\n",
       "restecg     float64\n",
       "thalach     float64\n",
       "exang       float64\n",
       "oldpeak     float64\n",
       "slope       float64\n",
       "ca          float64\n",
       "thal        float64\n",
       "num           int64\n",
       "region       object\n",
       "dtype: object"
      ]
     },
     "execution_count": 9,
     "metadata": {},
     "output_type": "execute_result"
    }
   ],
   "source": [
    "df_cleveland.dtypes"
   ]
  },
  {
   "cell_type": "code",
   "execution_count": 10,
   "id": "9f265b09",
   "metadata": {},
   "outputs": [
    {
     "name": "stdout",
     "output_type": "stream",
     "text": [
      "     age  sex  cp  trestbps   chol  fbs  restecg  thalach  exang  oldpeak  \\\n",
      "0     28    1   2     130.0  132.0  0.0      2.0    185.0    0.0      0.0   \n",
      "1     29    1   2     120.0  243.0  0.0      0.0    160.0    0.0      0.0   \n",
      "2     29    1   2     140.0    NaN  0.0      0.0    170.0    0.0      0.0   \n",
      "3     30    0   1     170.0  237.0  0.0      1.0    170.0    0.0      0.0   \n",
      "4     31    0   2     100.0  219.0  0.0      1.0    150.0    0.0      0.0   \n",
      "..   ...  ...  ..       ...    ...  ...      ...      ...    ...      ...   \n",
      "289   52    1   4     160.0  331.0  0.0      0.0     94.0    1.0      2.5   \n",
      "290   54    0   3     130.0  294.0  0.0      1.0    100.0    1.0      0.0   \n",
      "291   56    1   4     155.0  342.0  1.0      0.0    150.0    1.0      3.0   \n",
      "292   58    0   2     180.0  393.0  0.0      0.0    110.0    1.0      1.0   \n",
      "293   65    1   4     130.0  275.0  0.0      1.0    115.0    1.0      1.0   \n",
      "\n",
      "     slope  ca  thal  num   region  \n",
      "0      NaN NaN   NaN    0  Hungary  \n",
      "1      NaN NaN   NaN    0  Hungary  \n",
      "2      NaN NaN   NaN    0  Hungary  \n",
      "3      NaN NaN   6.0    0  Hungary  \n",
      "4      NaN NaN   NaN    0  Hungary  \n",
      "..     ...  ..   ...  ...      ...  \n",
      "289    NaN NaN   NaN    1  Hungary  \n",
      "290    2.0 NaN   NaN    1  Hungary  \n",
      "291    2.0 NaN   NaN    1  Hungary  \n",
      "292    2.0 NaN   7.0    1  Hungary  \n",
      "293    2.0 NaN   NaN    1  Hungary  \n",
      "\n",
      "[294 rows x 15 columns]\n"
     ]
    }
   ],
   "source": [
    "df_hungarian.columns = column_names\n",
    "df_hungarian['region']='Hungary'\n",
    "\n",
    "print(df_hungarian)"
   ]
  },
  {
   "cell_type": "code",
   "execution_count": 11,
   "id": "9ba7cfd6",
   "metadata": {},
   "outputs": [
    {
     "name": "stdout",
     "output_type": "stream",
     "text": [
      "     age  sex  cp  trestbps   chol  fbs  restecg  thalach  exang  oldpeak  \\\n",
      "0     63    1   4     140.0  260.0  0.0        1    112.0    1.0      3.0   \n",
      "1     44    1   4     130.0  209.0  0.0        1    127.0    0.0      0.0   \n",
      "2     60    1   4     132.0  218.0  0.0        1    140.0    1.0      1.5   \n",
      "3     55    1   4     142.0  228.0  0.0        1    149.0    1.0      2.5   \n",
      "4     66    1   3     110.0  213.0  1.0        2     99.0    1.0      1.3   \n",
      "..   ...  ...  ..       ...    ...  ...      ...      ...    ...      ...   \n",
      "195   54    0   4     127.0  333.0  1.0        1    154.0    0.0      0.0   \n",
      "196   62    1   1       NaN  139.0  0.0        1      NaN    NaN      NaN   \n",
      "197   55    1   4     122.0  223.0  1.0        1    100.0    0.0      0.0   \n",
      "198   58    1   4       NaN  385.0  1.0        2      NaN    NaN      NaN   \n",
      "199   62    1   2     120.0  254.0  0.0        2     93.0    1.0      0.0   \n",
      "\n",
      "     slope  ca  thal  num      region  \n",
      "0      2.0 NaN   NaN    2  Long Beach  \n",
      "1      NaN NaN   NaN    0  Long Beach  \n",
      "2      3.0 NaN   NaN    2  Long Beach  \n",
      "3      1.0 NaN   NaN    1  Long Beach  \n",
      "4      2.0 NaN   NaN    0  Long Beach  \n",
      "..     ...  ..   ...  ...         ...  \n",
      "195    NaN NaN   NaN    1  Long Beach  \n",
      "196    NaN NaN   NaN    0  Long Beach  \n",
      "197    NaN NaN   6.0    2  Long Beach  \n",
      "198    NaN NaN   NaN    0  Long Beach  \n",
      "199    NaN NaN   NaN    1  Long Beach  \n",
      "\n",
      "[200 rows x 15 columns]\n"
     ]
    }
   ],
   "source": [
    "df_va.columns = column_names\n",
    "df_va['region']='Long Beach'\n",
    "print(df_va)"
   ]
  },
  {
   "cell_type": "code",
   "execution_count": 12,
   "id": "d8006a19",
   "metadata": {},
   "outputs": [
    {
     "name": "stdout",
     "output_type": "stream",
     "text": [
      "     age  sex  cp  trestbps  chol  fbs  restecg  thalach  exang  oldpeak  \\\n",
      "0     32    1   1      95.0     0  NaN      0.0    127.0    0.0      0.7   \n",
      "1     34    1   4     115.0     0  NaN      NaN    154.0    0.0      0.2   \n",
      "2     35    1   4       NaN     0  NaN      0.0    130.0    1.0      NaN   \n",
      "3     36    1   4     110.0     0  NaN      0.0    125.0    1.0      1.0   \n",
      "4     38    0   4     105.0     0  NaN      0.0    166.0    0.0      2.8   \n",
      "..   ...  ...  ..       ...   ...  ...      ...      ...    ...      ...   \n",
      "118   70    1   4     115.0     0  0.0      1.0     92.0    1.0      0.0   \n",
      "119   70    1   4     140.0     0  1.0      0.0    157.0    1.0      2.0   \n",
      "120   72    1   3     160.0     0  NaN      2.0    114.0    0.0      1.6   \n",
      "121   73    0   3     160.0     0  0.0      1.0    121.0    0.0      0.0   \n",
      "122   74    1   2     145.0     0  NaN      1.0    123.0    0.0      1.3   \n",
      "\n",
      "     slope   ca  thal  num       region  \n",
      "0      1.0  NaN   NaN    1  Switzerland  \n",
      "1      1.0  NaN   NaN    1  Switzerland  \n",
      "2      NaN  NaN   7.0    3  Switzerland  \n",
      "3      2.0  NaN   6.0    1  Switzerland  \n",
      "4      1.0  NaN   NaN    2  Switzerland  \n",
      "..     ...  ...   ...  ...          ...  \n",
      "118    2.0  NaN   7.0    1  Switzerland  \n",
      "119    2.0  NaN   7.0    3  Switzerland  \n",
      "120    2.0  2.0   NaN    0  Switzerland  \n",
      "121    1.0  NaN   3.0    1  Switzerland  \n",
      "122    1.0  NaN   NaN    1  Switzerland  \n",
      "\n",
      "[123 rows x 15 columns]\n"
     ]
    }
   ],
   "source": [
    "df_switzerland.columns = column_names\n",
    "df_switzerland['region']='Switzerland'\n",
    "print(df_switzerland)"
   ]
  },
  {
   "cell_type": "code",
   "execution_count": 13,
   "id": "4e9a08b6",
   "metadata": {},
   "outputs": [],
   "source": [
    "df_conc = pd.concat([df_cleveland, df_hungarian, df_va, df_switzerland], axis = 0)\n",
    "\n"
   ]
  },
  {
   "cell_type": "code",
   "execution_count": 14,
   "id": "fa641a99",
   "metadata": {},
   "outputs": [
    {
     "data": {
      "text/html": [
       "<div>\n",
       "<style scoped>\n",
       "    .dataframe tbody tr th:only-of-type {\n",
       "        vertical-align: middle;\n",
       "    }\n",
       "\n",
       "    .dataframe tbody tr th {\n",
       "        vertical-align: top;\n",
       "    }\n",
       "\n",
       "    .dataframe thead th {\n",
       "        text-align: right;\n",
       "    }\n",
       "</style>\n",
       "<table border=\"1\" class=\"dataframe\">\n",
       "  <thead>\n",
       "    <tr style=\"text-align: right;\">\n",
       "      <th></th>\n",
       "      <th>age</th>\n",
       "      <th>sex</th>\n",
       "      <th>cp</th>\n",
       "      <th>trestbps</th>\n",
       "      <th>chol</th>\n",
       "      <th>fbs</th>\n",
       "      <th>restecg</th>\n",
       "      <th>thalach</th>\n",
       "      <th>exang</th>\n",
       "      <th>oldpeak</th>\n",
       "      <th>slope</th>\n",
       "      <th>ca</th>\n",
       "      <th>thal</th>\n",
       "      <th>num</th>\n",
       "      <th>region</th>\n",
       "    </tr>\n",
       "  </thead>\n",
       "  <tbody>\n",
       "    <tr>\n",
       "      <th>0</th>\n",
       "      <td>63.0</td>\n",
       "      <td>1.0</td>\n",
       "      <td>1.0</td>\n",
       "      <td>145.0</td>\n",
       "      <td>233.0</td>\n",
       "      <td>1.0</td>\n",
       "      <td>2.0</td>\n",
       "      <td>150.0</td>\n",
       "      <td>0.0</td>\n",
       "      <td>2.3</td>\n",
       "      <td>3.0</td>\n",
       "      <td>0.0</td>\n",
       "      <td>6.0</td>\n",
       "      <td>0</td>\n",
       "      <td>Cleveland</td>\n",
       "    </tr>\n",
       "    <tr>\n",
       "      <th>1</th>\n",
       "      <td>67.0</td>\n",
       "      <td>1.0</td>\n",
       "      <td>4.0</td>\n",
       "      <td>160.0</td>\n",
       "      <td>286.0</td>\n",
       "      <td>0.0</td>\n",
       "      <td>2.0</td>\n",
       "      <td>108.0</td>\n",
       "      <td>1.0</td>\n",
       "      <td>1.5</td>\n",
       "      <td>2.0</td>\n",
       "      <td>3.0</td>\n",
       "      <td>3.0</td>\n",
       "      <td>2</td>\n",
       "      <td>Cleveland</td>\n",
       "    </tr>\n",
       "    <tr>\n",
       "      <th>2</th>\n",
       "      <td>67.0</td>\n",
       "      <td>1.0</td>\n",
       "      <td>4.0</td>\n",
       "      <td>120.0</td>\n",
       "      <td>229.0</td>\n",
       "      <td>0.0</td>\n",
       "      <td>2.0</td>\n",
       "      <td>129.0</td>\n",
       "      <td>1.0</td>\n",
       "      <td>2.6</td>\n",
       "      <td>2.0</td>\n",
       "      <td>2.0</td>\n",
       "      <td>7.0</td>\n",
       "      <td>1</td>\n",
       "      <td>Cleveland</td>\n",
       "    </tr>\n",
       "    <tr>\n",
       "      <th>3</th>\n",
       "      <td>37.0</td>\n",
       "      <td>1.0</td>\n",
       "      <td>3.0</td>\n",
       "      <td>130.0</td>\n",
       "      <td>250.0</td>\n",
       "      <td>0.0</td>\n",
       "      <td>0.0</td>\n",
       "      <td>187.0</td>\n",
       "      <td>0.0</td>\n",
       "      <td>3.5</td>\n",
       "      <td>3.0</td>\n",
       "      <td>0.0</td>\n",
       "      <td>3.0</td>\n",
       "      <td>0</td>\n",
       "      <td>Cleveland</td>\n",
       "    </tr>\n",
       "    <tr>\n",
       "      <th>4</th>\n",
       "      <td>41.0</td>\n",
       "      <td>0.0</td>\n",
       "      <td>2.0</td>\n",
       "      <td>130.0</td>\n",
       "      <td>204.0</td>\n",
       "      <td>0.0</td>\n",
       "      <td>2.0</td>\n",
       "      <td>172.0</td>\n",
       "      <td>0.0</td>\n",
       "      <td>1.4</td>\n",
       "      <td>1.0</td>\n",
       "      <td>0.0</td>\n",
       "      <td>3.0</td>\n",
       "      <td>0</td>\n",
       "      <td>Cleveland</td>\n",
       "    </tr>\n",
       "    <tr>\n",
       "      <th>...</th>\n",
       "      <td>...</td>\n",
       "      <td>...</td>\n",
       "      <td>...</td>\n",
       "      <td>...</td>\n",
       "      <td>...</td>\n",
       "      <td>...</td>\n",
       "      <td>...</td>\n",
       "      <td>...</td>\n",
       "      <td>...</td>\n",
       "      <td>...</td>\n",
       "      <td>...</td>\n",
       "      <td>...</td>\n",
       "      <td>...</td>\n",
       "      <td>...</td>\n",
       "      <td>...</td>\n",
       "    </tr>\n",
       "    <tr>\n",
       "      <th>118</th>\n",
       "      <td>70.0</td>\n",
       "      <td>1.0</td>\n",
       "      <td>4.0</td>\n",
       "      <td>115.0</td>\n",
       "      <td>0.0</td>\n",
       "      <td>0.0</td>\n",
       "      <td>1.0</td>\n",
       "      <td>92.0</td>\n",
       "      <td>1.0</td>\n",
       "      <td>0.0</td>\n",
       "      <td>2.0</td>\n",
       "      <td>NaN</td>\n",
       "      <td>7.0</td>\n",
       "      <td>1</td>\n",
       "      <td>Switzerland</td>\n",
       "    </tr>\n",
       "    <tr>\n",
       "      <th>119</th>\n",
       "      <td>70.0</td>\n",
       "      <td>1.0</td>\n",
       "      <td>4.0</td>\n",
       "      <td>140.0</td>\n",
       "      <td>0.0</td>\n",
       "      <td>1.0</td>\n",
       "      <td>0.0</td>\n",
       "      <td>157.0</td>\n",
       "      <td>1.0</td>\n",
       "      <td>2.0</td>\n",
       "      <td>2.0</td>\n",
       "      <td>NaN</td>\n",
       "      <td>7.0</td>\n",
       "      <td>3</td>\n",
       "      <td>Switzerland</td>\n",
       "    </tr>\n",
       "    <tr>\n",
       "      <th>120</th>\n",
       "      <td>72.0</td>\n",
       "      <td>1.0</td>\n",
       "      <td>3.0</td>\n",
       "      <td>160.0</td>\n",
       "      <td>0.0</td>\n",
       "      <td>NaN</td>\n",
       "      <td>2.0</td>\n",
       "      <td>114.0</td>\n",
       "      <td>0.0</td>\n",
       "      <td>1.6</td>\n",
       "      <td>2.0</td>\n",
       "      <td>2.0</td>\n",
       "      <td>NaN</td>\n",
       "      <td>0</td>\n",
       "      <td>Switzerland</td>\n",
       "    </tr>\n",
       "    <tr>\n",
       "      <th>121</th>\n",
       "      <td>73.0</td>\n",
       "      <td>0.0</td>\n",
       "      <td>3.0</td>\n",
       "      <td>160.0</td>\n",
       "      <td>0.0</td>\n",
       "      <td>0.0</td>\n",
       "      <td>1.0</td>\n",
       "      <td>121.0</td>\n",
       "      <td>0.0</td>\n",
       "      <td>0.0</td>\n",
       "      <td>1.0</td>\n",
       "      <td>NaN</td>\n",
       "      <td>3.0</td>\n",
       "      <td>1</td>\n",
       "      <td>Switzerland</td>\n",
       "    </tr>\n",
       "    <tr>\n",
       "      <th>122</th>\n",
       "      <td>74.0</td>\n",
       "      <td>1.0</td>\n",
       "      <td>2.0</td>\n",
       "      <td>145.0</td>\n",
       "      <td>0.0</td>\n",
       "      <td>NaN</td>\n",
       "      <td>1.0</td>\n",
       "      <td>123.0</td>\n",
       "      <td>0.0</td>\n",
       "      <td>1.3</td>\n",
       "      <td>1.0</td>\n",
       "      <td>NaN</td>\n",
       "      <td>NaN</td>\n",
       "      <td>1</td>\n",
       "      <td>Switzerland</td>\n",
       "    </tr>\n",
       "  </tbody>\n",
       "</table>\n",
       "<p>920 rows × 15 columns</p>\n",
       "</div>"
      ],
      "text/plain": [
       "      age  sex   cp  trestbps   chol  fbs  restecg  thalach  exang  oldpeak  \\\n",
       "0    63.0  1.0  1.0     145.0  233.0  1.0      2.0    150.0    0.0      2.3   \n",
       "1    67.0  1.0  4.0     160.0  286.0  0.0      2.0    108.0    1.0      1.5   \n",
       "2    67.0  1.0  4.0     120.0  229.0  0.0      2.0    129.0    1.0      2.6   \n",
       "3    37.0  1.0  3.0     130.0  250.0  0.0      0.0    187.0    0.0      3.5   \n",
       "4    41.0  0.0  2.0     130.0  204.0  0.0      2.0    172.0    0.0      1.4   \n",
       "..    ...  ...  ...       ...    ...  ...      ...      ...    ...      ...   \n",
       "118  70.0  1.0  4.0     115.0    0.0  0.0      1.0     92.0    1.0      0.0   \n",
       "119  70.0  1.0  4.0     140.0    0.0  1.0      0.0    157.0    1.0      2.0   \n",
       "120  72.0  1.0  3.0     160.0    0.0  NaN      2.0    114.0    0.0      1.6   \n",
       "121  73.0  0.0  3.0     160.0    0.0  0.0      1.0    121.0    0.0      0.0   \n",
       "122  74.0  1.0  2.0     145.0    0.0  NaN      1.0    123.0    0.0      1.3   \n",
       "\n",
       "     slope   ca  thal  num       region  \n",
       "0      3.0  0.0   6.0    0    Cleveland  \n",
       "1      2.0  3.0   3.0    2    Cleveland  \n",
       "2      2.0  2.0   7.0    1    Cleveland  \n",
       "3      3.0  0.0   3.0    0    Cleveland  \n",
       "4      1.0  0.0   3.0    0    Cleveland  \n",
       "..     ...  ...   ...  ...          ...  \n",
       "118    2.0  NaN   7.0    1  Switzerland  \n",
       "119    2.0  NaN   7.0    3  Switzerland  \n",
       "120    2.0  2.0   NaN    0  Switzerland  \n",
       "121    1.0  NaN   3.0    1  Switzerland  \n",
       "122    1.0  NaN   NaN    1  Switzerland  \n",
       "\n",
       "[920 rows x 15 columns]"
      ]
     },
     "execution_count": 14,
     "metadata": {},
     "output_type": "execute_result"
    }
   ],
   "source": [
    "df_conc"
   ]
  },
  {
   "cell_type": "code",
   "execution_count": 15,
   "id": "0be2f882",
   "metadata": {},
   "outputs": [
    {
     "data": {
      "text/plain": [
       "array([145., 160., 120., 130., 140., 172., 150., 110., 132., 117., 135.,\n",
       "       112., 105., 124., 125., 142., 128., 170., 155., 104., 180., 138.,\n",
       "       108., 134., 122., 115., 118., 100., 200.,  94., 165., 102., 152.,\n",
       "       101., 126., 174., 148., 178., 158., 192., 129., 144., 123., 136.,\n",
       "       146., 106., 156., 154., 114., 164.,  98., 190.,  nan, 113.,  92.,\n",
       "       116.,   0.,  96., 127.,  95.,  80., 185.])"
      ]
     },
     "execution_count": 15,
     "metadata": {},
     "output_type": "execute_result"
    }
   ],
   "source": [
    "df_conc['trestbps'].unique() #zero?,  trestbps: resting blood pressure (in mm Hg on admission to the hospital)\n",
    "\n"
   ]
  },
  {
   "cell_type": "code",
   "execution_count": 16,
   "id": "906a7ce2",
   "metadata": {},
   "outputs": [],
   "source": [
    "df_conc['trestbps'].replace(0, 'nan' ,inplace=True)\n"
   ]
  },
  {
   "cell_type": "code",
   "execution_count": 17,
   "id": "966181c7",
   "metadata": {},
   "outputs": [
    {
     "data": {
      "text/plain": [
       "array([145.0, 160.0, 120.0, 130.0, 140.0, 172.0, 150.0, 110.0, 132.0,\n",
       "       117.0, 135.0, 112.0, 105.0, 124.0, 125.0, 142.0, 128.0, 170.0,\n",
       "       155.0, 104.0, 180.0, 138.0, 108.0, 134.0, 122.0, 115.0, 118.0,\n",
       "       100.0, 200.0, 94.0, 165.0, 102.0, 152.0, 101.0, 126.0, 174.0,\n",
       "       148.0, 178.0, 158.0, 192.0, 129.0, 144.0, 123.0, 136.0, 146.0,\n",
       "       106.0, 156.0, 154.0, 114.0, 164.0, 98.0, 190.0, nan, 113.0, 92.0,\n",
       "       116.0, 'nan', 96.0, 127.0, 95.0, 80.0, 185.0], dtype=object)"
      ]
     },
     "execution_count": 17,
     "metadata": {},
     "output_type": "execute_result"
    }
   ],
   "source": [
    "df_conc['trestbps'].unique()"
   ]
  },
  {
   "cell_type": "code",
   "execution_count": 22,
   "id": "762ffc19",
   "metadata": {},
   "outputs": [],
   "source": [
    "df_conc['trestbps'] = df_conc['trestbps'].astype(float)"
   ]
  },
  {
   "cell_type": "code",
   "execution_count": 18,
   "id": "bf77df86",
   "metadata": {},
   "outputs": [
    {
     "data": {
      "text/plain": [
       "array([ 2.3,  1.5,  2.6,  3.5,  1.4,  0.8,  3.6,  0.6,  3.1,  0.4,  1.3,\n",
       "        0. ,  0.5,  1.6,  1. ,  1.2,  0.2,  1.8,  3.2,  2.4,  2. ,  2.5,\n",
       "        2.2,  2.8,  3. ,  3.4,  6.2,  4. ,  5.6,  2.9,  0.1,  2.1,  1.9,\n",
       "        4.2,  0.9,  1.1,  3.8,  0.7,  0.3,  4.4,  5. , -0.5,  nan,  1.7,\n",
       "       -1.1, -1.5, -0.1, -2.6, -0.7, -2. , -1. , -0.8, -0.9,  3.7])"
      ]
     },
     "execution_count": 18,
     "metadata": {},
     "output_type": "execute_result"
    }
   ],
   "source": [
    "df_conc['oldpeak'].unique()"
   ]
  },
  {
   "cell_type": "code",
   "execution_count": 19,
   "id": "ec8e0951",
   "metadata": {},
   "outputs": [
    {
     "data": {
      "text/plain": [
       "array([0, 2, 1, 3, 4], dtype=int64)"
      ]
     },
     "execution_count": 19,
     "metadata": {},
     "output_type": "execute_result"
    }
   ],
   "source": [
    "df_conc['num'].unique()"
   ]
  },
  {
   "cell_type": "code",
   "execution_count": 23,
   "id": "315001c2",
   "metadata": {},
   "outputs": [
    {
     "data": {
      "text/plain": [
       "age         float64\n",
       "sex         float64\n",
       "cp          float64\n",
       "trestbps    float64\n",
       "chol        float64\n",
       "fbs         float64\n",
       "restecg     float64\n",
       "thalach     float64\n",
       "exang       float64\n",
       "oldpeak     float64\n",
       "slope       float64\n",
       "ca          float64\n",
       "thal        float64\n",
       "num           int64\n",
       "region       object\n",
       "dtype: object"
      ]
     },
     "execution_count": 23,
     "metadata": {},
     "output_type": "execute_result"
    }
   ],
   "source": [
    "df_conc.dtypes\n"
   ]
  },
  {
   "cell_type": "code",
   "execution_count": 24,
   "id": "da8f4579",
   "metadata": {},
   "outputs": [
    {
     "name": "stdout",
     "output_type": "stream",
     "text": [
      "age           0\n",
      "sex           0\n",
      "cp            0\n",
      "trestbps     60\n",
      "chol         30\n",
      "fbs          90\n",
      "restecg       2\n",
      "thalach      55\n",
      "exang        55\n",
      "oldpeak      62\n",
      "slope       309\n",
      "ca          611\n",
      "thal        486\n",
      "num           0\n",
      "region        0\n",
      "dtype: int64\n",
      "age         920\n",
      "sex         920\n",
      "cp          920\n",
      "trestbps    860\n",
      "chol        890\n",
      "fbs         830\n",
      "restecg     918\n",
      "thalach     865\n",
      "exang       865\n",
      "oldpeak     858\n",
      "slope       611\n",
      "ca          309\n",
      "thal        434\n",
      "num         920\n",
      "region      920\n",
      "dtype: int64\n"
     ]
    }
   ],
   "source": [
    "print(pd.isnull(df_conc).sum())\n",
    "print(pd.notnull(df_conc).sum())"
   ]
  },
  {
   "cell_type": "code",
   "execution_count": 26,
   "id": "2f1b3a0b",
   "metadata": {},
   "outputs": [],
   "source": [
    "df_conc.to_csv('modified_heart.csv')"
   ]
  },
  {
   "cell_type": "code",
   "execution_count": null,
   "id": "94a21eeb",
   "metadata": {},
   "outputs": [],
   "source": []
  }
 ],
 "metadata": {
  "kernelspec": {
   "display_name": "Python 3 (ipykernel)",
   "language": "python",
   "name": "python3"
  },
  "language_info": {
   "codemirror_mode": {
    "name": "ipython",
    "version": 3
   },
   "file_extension": ".py",
   "mimetype": "text/x-python",
   "name": "python",
   "nbconvert_exporter": "python",
   "pygments_lexer": "ipython3",
   "version": "3.9.12"
  }
 },
 "nbformat": 4,
 "nbformat_minor": 5
}
